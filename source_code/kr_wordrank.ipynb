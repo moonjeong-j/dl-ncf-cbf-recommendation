{
 "cells": [
  {
   "cell_type": "code",
   "execution_count": 1,
   "metadata": {},
   "outputs": [
    {
     "name": "stdout",
     "output_type": "stream",
     "text": [
      "Collecting krwordrank\n",
      "  Downloading krwordrank-1.0.3-py3-none-any.whl (20 kB)\n",
      "Requirement already satisfied: scipy>=1.4.1 in /Users/moon/opt/anaconda3/envs/ds_study/lib/python3.8/site-packages (from krwordrank) (1.7.3)\n",
      "Requirement already satisfied: scikit-learn>=0.22.1 in /Users/moon/opt/anaconda3/envs/ds_study/lib/python3.8/site-packages (from krwordrank) (1.0.2)\n",
      "Requirement already satisfied: numpy>=1.18.4 in /Users/moon/opt/anaconda3/envs/ds_study/lib/python3.8/site-packages (from krwordrank) (1.21.2)\n",
      "Requirement already satisfied: joblib>=0.11 in /Users/moon/opt/anaconda3/envs/ds_study/lib/python3.8/site-packages (from scikit-learn>=0.22.1->krwordrank) (1.1.0)\n",
      "Requirement already satisfied: threadpoolctl>=2.0.0 in /Users/moon/opt/anaconda3/envs/ds_study/lib/python3.8/site-packages (from scikit-learn>=0.22.1->krwordrank) (3.1.0)\n",
      "Installing collected packages: krwordrank\n",
      "Successfully installed krwordrank-1.0.3\n",
      "Note: you may need to restart the kernel to use updated packages.\n"
     ]
    }
   ],
   "source": [
    "# pip install krwordrank\n"
   ]
  },
  {
   "cell_type": "code",
   "execution_count": 1,
   "metadata": {},
   "outputs": [],
   "source": [
    "import pandas as pd\n",
    "review=pd.read_csv('review_list_new.csv')"
   ]
  },
  {
   "cell_type": "code",
   "execution_count": 19,
   "metadata": {},
   "outputs": [],
   "source": [
    "review_kr =pd.read_csv('건대_군자_광진_일식_review_list.csv')\n",
    "review_jp=pd.read_csv('건대_군자_광진_한식_review_list.csv')"
   ]
  },
  {
   "cell_type": "code",
   "execution_count": 20,
   "metadata": {},
   "outputs": [
    {
     "data": {
      "text/html": [
       "<div>\n",
       "<style scoped>\n",
       "    .dataframe tbody tr th:only-of-type {\n",
       "        vertical-align: middle;\n",
       "    }\n",
       "\n",
       "    .dataframe tbody tr th {\n",
       "        vertical-align: top;\n",
       "    }\n",
       "\n",
       "    .dataframe thead th {\n",
       "        text-align: right;\n",
       "    }\n",
       "</style>\n",
       "<table border=\"1\" class=\"dataframe\">\n",
       "  <thead>\n",
       "    <tr style=\"text-align: right;\">\n",
       "      <th></th>\n",
       "      <th>Unnamed: 0</th>\n",
       "      <th>가게이름</th>\n",
       "      <th>리뷰</th>\n",
       "      <th>맛평가</th>\n",
       "    </tr>\n",
       "  </thead>\n",
       "  <tbody>\n",
       "    <tr>\n",
       "      <th>0</th>\n",
       "      <td>0</td>\n",
       "      <td>초라멘</td>\n",
       "      <td>건대 근처 숨은 라멘 맛집.가운데 빛나고 있는 노른자를 톡 터뜨리면,꿀처럼 녹아내리...</td>\n",
       "      <td>맛있다</td>\n",
       "    </tr>\n",
       "    <tr>\n",
       "      <th>1</th>\n",
       "      <td>1</td>\n",
       "      <td>초라멘</td>\n",
       "      <td>살짝 타이밍 잘못 걸려서 좀 웨이팅했는데 그 가치가 있었다 ㅠㅠ 정말 맛있었음. 면...</td>\n",
       "      <td>맛있다</td>\n",
       "    </tr>\n",
       "    <tr>\n",
       "      <th>2</th>\n",
       "      <td>2</td>\n",
       "      <td>초라멘</td>\n",
       "      <td>토마토 계란 덮밥 맛나게 먹고 2차로 온 초라멘입니다 여기를 오려고 하나만 시켰더니...</td>\n",
       "      <td>맛있다</td>\n",
       "    </tr>\n",
       "    <tr>\n",
       "      <th>3</th>\n",
       "      <td>3</td>\n",
       "      <td>초라멘</td>\n",
       "      <td>뽀얀 국물에 담백함이 매력적인 토리파이탄 라멘. 진한 흰색에 시선이 가서 나오자마자...</td>\n",
       "      <td>맛있다</td>\n",
       "    </tr>\n",
       "    <tr>\n",
       "      <th>4</th>\n",
       "      <td>4</td>\n",
       "      <td>초라멘</td>\n",
       "      <td>슈퍼 스페셜하진 않지만 정감가는 맛</td>\n",
       "      <td>맛있다</td>\n",
       "    </tr>\n",
       "    <tr>\n",
       "      <th>...</th>\n",
       "      <td>...</td>\n",
       "      <td>...</td>\n",
       "      <td>...</td>\n",
       "      <td>...</td>\n",
       "    </tr>\n",
       "    <tr>\n",
       "      <th>661</th>\n",
       "      <td>661</td>\n",
       "      <td>달빛한점</td>\n",
       "      <td>찾기가 좀 힘들긴 한데4층에 위치하고 있고 그리 크지 않은 아담한 이자카야 스타일입...</td>\n",
       "      <td>맛있다</td>\n",
       "    </tr>\n",
       "    <tr>\n",
       "      <th>662</th>\n",
       "      <td>662</td>\n",
       "      <td>달빛한점</td>\n",
       "      <td>★★★★</td>\n",
       "      <td>맛있다</td>\n",
       "    </tr>\n",
       "    <tr>\n",
       "      <th>663</th>\n",
       "      <td>663</td>\n",
       "      <td>오징어상미수산</td>\n",
       "      <td>연어회가 꽃처럼 피었습니다~신선하고 윤기좌르르 흐르는 도톰한 연어를가성비 좋은 가격...</td>\n",
       "      <td>맛있다</td>\n",
       "    </tr>\n",
       "    <tr>\n",
       "      <th>664</th>\n",
       "      <td>664</td>\n",
       "      <td>오징어상미수산</td>\n",
       "      <td>동네주민 추천으로 가봤는데 대만족!!군자역에서 좀 걸어야 하나내부도 넓고 회전율이 ...</td>\n",
       "      <td>맛있다</td>\n",
       "    </tr>\n",
       "    <tr>\n",
       "      <th>665</th>\n",
       "      <td>665</td>\n",
       "      <td>오징어상미수산</td>\n",
       "      <td>광어</td>\n",
       "      <td>맛있다</td>\n",
       "    </tr>\n",
       "  </tbody>\n",
       "</table>\n",
       "<p>666 rows × 4 columns</p>\n",
       "</div>"
      ],
      "text/plain": [
       "     Unnamed: 0     가게이름                                                 리뷰  \\\n",
       "0             0      초라멘  건대 근처 숨은 라멘 맛집.가운데 빛나고 있는 노른자를 톡 터뜨리면,꿀처럼 녹아내리...   \n",
       "1             1      초라멘  살짝 타이밍 잘못 걸려서 좀 웨이팅했는데 그 가치가 있었다 ㅠㅠ 정말 맛있었음. 면...   \n",
       "2             2      초라멘  토마토 계란 덮밥 맛나게 먹고 2차로 온 초라멘입니다 여기를 오려고 하나만 시켰더니...   \n",
       "3             3      초라멘  뽀얀 국물에 담백함이 매력적인 토리파이탄 라멘. 진한 흰색에 시선이 가서 나오자마자...   \n",
       "4             4      초라멘                                슈퍼 스페셜하진 않지만 정감가는 맛   \n",
       "..          ...      ...                                                ...   \n",
       "661         661     달빛한점  찾기가 좀 힘들긴 한데4층에 위치하고 있고 그리 크지 않은 아담한 이자카야 스타일입...   \n",
       "662         662     달빛한점                                               ★★★★   \n",
       "663         663  오징어상미수산  연어회가 꽃처럼 피었습니다~신선하고 윤기좌르르 흐르는 도톰한 연어를가성비 좋은 가격...   \n",
       "664         664  오징어상미수산  동네주민 추천으로 가봤는데 대만족!!군자역에서 좀 걸어야 하나내부도 넓고 회전율이 ...   \n",
       "665         665  오징어상미수산                                                 광어   \n",
       "\n",
       "     맛평가  \n",
       "0    맛있다  \n",
       "1    맛있다  \n",
       "2    맛있다  \n",
       "3    맛있다  \n",
       "4    맛있다  \n",
       "..   ...  \n",
       "661  맛있다  \n",
       "662  맛있다  \n",
       "663  맛있다  \n",
       "664  맛있다  \n",
       "665  맛있다  \n",
       "\n",
       "[666 rows x 4 columns]"
      ]
     },
     "execution_count": 20,
     "metadata": {},
     "output_type": "execute_result"
    }
   ],
   "source": [
    "review_kr"
   ]
  },
  {
   "cell_type": "code",
   "execution_count": 23,
   "metadata": {},
   "outputs": [],
   "source": [
    "review=pd.concat([review_kr,review_jp])"
   ]
  },
  {
   "cell_type": "code",
   "execution_count": 24,
   "metadata": {},
   "outputs": [
    {
     "data": {
      "text/html": [
       "<div>\n",
       "<style scoped>\n",
       "    .dataframe tbody tr th:only-of-type {\n",
       "        vertical-align: middle;\n",
       "    }\n",
       "\n",
       "    .dataframe tbody tr th {\n",
       "        vertical-align: top;\n",
       "    }\n",
       "\n",
       "    .dataframe thead th {\n",
       "        text-align: right;\n",
       "    }\n",
       "</style>\n",
       "<table border=\"1\" class=\"dataframe\">\n",
       "  <thead>\n",
       "    <tr style=\"text-align: right;\">\n",
       "      <th></th>\n",
       "      <th>Unnamed: 0</th>\n",
       "      <th>가게이름</th>\n",
       "      <th>리뷰</th>\n",
       "      <th>맛평가</th>\n",
       "    </tr>\n",
       "  </thead>\n",
       "  <tbody>\n",
       "    <tr>\n",
       "      <th>0</th>\n",
       "      <td>0</td>\n",
       "      <td>초라멘</td>\n",
       "      <td>건대 근처 숨은 라멘 맛집.가운데 빛나고 있는 노른자를 톡 터뜨리면,꿀처럼 녹아내리...</td>\n",
       "      <td>맛있다</td>\n",
       "    </tr>\n",
       "    <tr>\n",
       "      <th>1</th>\n",
       "      <td>1</td>\n",
       "      <td>초라멘</td>\n",
       "      <td>살짝 타이밍 잘못 걸려서 좀 웨이팅했는데 그 가치가 있었다 ㅠㅠ 정말 맛있었음. 면...</td>\n",
       "      <td>맛있다</td>\n",
       "    </tr>\n",
       "    <tr>\n",
       "      <th>2</th>\n",
       "      <td>2</td>\n",
       "      <td>초라멘</td>\n",
       "      <td>토마토 계란 덮밥 맛나게 먹고 2차로 온 초라멘입니다 여기를 오려고 하나만 시켰더니...</td>\n",
       "      <td>맛있다</td>\n",
       "    </tr>\n",
       "    <tr>\n",
       "      <th>3</th>\n",
       "      <td>3</td>\n",
       "      <td>초라멘</td>\n",
       "      <td>뽀얀 국물에 담백함이 매력적인 토리파이탄 라멘. 진한 흰색에 시선이 가서 나오자마자...</td>\n",
       "      <td>맛있다</td>\n",
       "    </tr>\n",
       "    <tr>\n",
       "      <th>4</th>\n",
       "      <td>4</td>\n",
       "      <td>초라멘</td>\n",
       "      <td>슈퍼 스페셜하진 않지만 정감가는 맛</td>\n",
       "      <td>맛있다</td>\n",
       "    </tr>\n",
       "    <tr>\n",
       "      <th>...</th>\n",
       "      <td>...</td>\n",
       "      <td>...</td>\n",
       "      <td>...</td>\n",
       "      <td>...</td>\n",
       "    </tr>\n",
       "    <tr>\n",
       "      <th>910</th>\n",
       "      <td>910</td>\n",
       "      <td>명월관</td>\n",
       "      <td>고기맛이 생각보다 육향이라던가 맛이 나지않고 마블링만 과한 느낌 분위기는 너무 좋았...</td>\n",
       "      <td>맛있다</td>\n",
       "    </tr>\n",
       "    <tr>\n",
       "      <th>911</th>\n",
       "      <td>911</td>\n",
       "      <td>명월관</td>\n",
       "      <td>된장찌개랑 김치가 맛있었어욤고기 퀄은 잘 모르겠습니다... 고기는 여기보다 맛있는 ...</td>\n",
       "      <td>맛있다</td>\n",
       "    </tr>\n",
       "    <tr>\n",
       "      <th>912</th>\n",
       "      <td>912</td>\n",
       "      <td>명월관</td>\n",
       "      <td>대박 맛집</td>\n",
       "      <td>맛있다</td>\n",
       "    </tr>\n",
       "    <tr>\n",
       "      <th>913</th>\n",
       "      <td>913</td>\n",
       "      <td>명월관</td>\n",
       "      <td>갈비, 등심, 육회 다 괜찮다. 여유로운 분위기도 맘에 듦</td>\n",
       "      <td>맛있다</td>\n",
       "    </tr>\n",
       "    <tr>\n",
       "      <th>914</th>\n",
       "      <td>914</td>\n",
       "      <td>명월관</td>\n",
       "      <td>살치살, 생등심, 특 양념갈비, 양념갈비 먹고식사로 비냉, 차돌 된장찌개 먹었습니다...</td>\n",
       "      <td>맛있다</td>\n",
       "    </tr>\n",
       "  </tbody>\n",
       "</table>\n",
       "<p>1581 rows × 4 columns</p>\n",
       "</div>"
      ],
      "text/plain": [
       "     Unnamed: 0 가게이름                                                 리뷰  맛평가\n",
       "0             0  초라멘  건대 근처 숨은 라멘 맛집.가운데 빛나고 있는 노른자를 톡 터뜨리면,꿀처럼 녹아내리...  맛있다\n",
       "1             1  초라멘  살짝 타이밍 잘못 걸려서 좀 웨이팅했는데 그 가치가 있었다 ㅠㅠ 정말 맛있었음. 면...  맛있다\n",
       "2             2  초라멘  토마토 계란 덮밥 맛나게 먹고 2차로 온 초라멘입니다 여기를 오려고 하나만 시켰더니...  맛있다\n",
       "3             3  초라멘  뽀얀 국물에 담백함이 매력적인 토리파이탄 라멘. 진한 흰색에 시선이 가서 나오자마자...  맛있다\n",
       "4             4  초라멘                                슈퍼 스페셜하진 않지만 정감가는 맛  맛있다\n",
       "..          ...  ...                                                ...  ...\n",
       "910         910  명월관  고기맛이 생각보다 육향이라던가 맛이 나지않고 마블링만 과한 느낌 분위기는 너무 좋았...  맛있다\n",
       "911         911  명월관  된장찌개랑 김치가 맛있었어욤고기 퀄은 잘 모르겠습니다... 고기는 여기보다 맛있는 ...  맛있다\n",
       "912         912  명월관                                              대박 맛집  맛있다\n",
       "913         913  명월관                   갈비, 등심, 육회 다 괜찮다. 여유로운 분위기도 맘에 듦  맛있다\n",
       "914         914  명월관  살치살, 생등심, 특 양념갈비, 양념갈비 먹고식사로 비냉, 차돌 된장찌개 먹었습니다...  맛있다\n",
       "\n",
       "[1581 rows x 4 columns]"
      ]
     },
     "execution_count": 24,
     "metadata": {},
     "output_type": "execute_result"
    }
   ],
   "source": [
    "review"
   ]
  },
  {
   "cell_type": "code",
   "execution_count": 26,
   "metadata": {},
   "outputs": [
    {
     "data": {
      "text/plain": [
       "신토불이떡볶이       127\n",
       "우마이도          112\n",
       "이이요           101\n",
       "서북면옥           95\n",
       "오코노미야키식당하나     66\n",
       "             ... \n",
       "D 27            3\n",
       "와꼬스시            3\n",
       "소정백             3\n",
       "포비의 행방불명        3\n",
       "신선설농탕           3\n",
       "Name: 가게이름, Length: 98, dtype: int64"
      ]
     },
     "execution_count": 26,
     "metadata": {},
     "output_type": "execute_result"
    }
   ],
   "source": [
    "review['가게이름'].value_counts()"
   ]
  },
  {
   "cell_type": "code",
   "execution_count": 6,
   "metadata": {},
   "outputs": [],
   "source": [
    "review_1 = review[review['가게이름']=='신토불이떡볶이']"
   ]
  },
  {
   "cell_type": "code",
   "execution_count": 7,
   "metadata": {},
   "outputs": [],
   "source": [
    "review_1 = review_1['리뷰'].to_list()"
   ]
  },
  {
   "cell_type": "code",
   "execution_count": 8,
   "metadata": {},
   "outputs": [],
   "source": [
    "import re\n",
    "review_filtered_1 = [str(string) for string in review_1]\n"
   ]
  },
  {
   "cell_type": "code",
   "execution_count": 9,
   "metadata": {},
   "outputs": [],
   "source": [
    "from krwordrank.hangle import normalize\n",
    "\n",
    "# texts = ['이것은 예문입니다', '각자의 데이터를 준비하세요' ]\n",
    "texts =review_filtered_1\n",
    "\n",
    "texts = [normalize(text, english=True, number=True) for text in texts]"
   ]
  },
  {
   "cell_type": "code",
   "execution_count": 10,
   "metadata": {},
   "outputs": [
    {
     "name": "stdout",
     "output_type": "stream",
     "text": [
      "scan vocabs ... \n",
      "num vocabs = 886\n",
      "done = 10\n"
     ]
    }
   ],
   "source": [
    "from krwordrank.word import KRWordRank\n",
    "\n",
    "wordrank_extractor = KRWordRank(\n",
    "    min_count = 5, # 단어의 최소 출현 빈도수 (그래프 생성 시)\n",
    "    max_length = 10, # 단어의 최대 길이\n",
    "    verbose = True\n",
    "    )\n",
    "\n",
    "beta = 0.85    # PageRank의 decaying factor beta\n",
    "max_iter = 10\n",
    "\n",
    "keywords, rank, graph = wordrank_extractor.extract(texts, beta, max_iter)"
   ]
  },
  {
   "cell_type": "code",
   "execution_count": 11,
   "metadata": {},
   "outputs": [
    {
     "name": "stdout",
     "output_type": "stream",
     "text": [
      "     떡볶이:\t14.5042\n",
      "     핫도그:\t6.9355\n",
      "      너무:\t5.8616\n",
      "      맛있:\t4.4467\n",
      "      맛이:\t4.4172\n",
      "      매운:\t3.2561\n",
      "      진짜:\t2.7016\n",
      "      생각:\t2.3637\n",
      "      그냥:\t2.1400\n",
      "      여기:\t2.1206\n",
      "      계란:\t2.1083\n",
      "      같이:\t2.1079\n",
      "      먹는:\t2.0709\n",
      "      아니:\t2.0162\n",
      "      많이:\t1.9887\n",
      "      오뎅:\t1.9707\n",
      "     1인분:\t1.9658\n",
      "      저는:\t1.9513\n",
      "      소스:\t1.8366\n",
      "     그리고:\t1.7903\n",
      "      양념:\t1.7516\n",
      "      정말:\t1.7469\n",
      "      좋아:\t1.7463\n",
      "    신토불이:\t1.7013\n",
      "      맵고:\t1.6752\n",
      "      맛은:\t1.6153\n",
      "      먹으:\t1.5661\n",
      "      만두:\t1.5402\n",
      "      엄청:\t1.5227\n",
      "      주문:\t1.5046\n"
     ]
    }
   ],
   "source": [
    "for word, r in sorted(keywords.items(), key=lambda x:x[1], reverse=True)[:30]:\n",
    "    print('%8s:\\t%.4f' % (word, r))"
   ]
  },
  {
   "cell_type": "code",
   "execution_count": 27,
   "metadata": {},
   "outputs": [],
   "source": [
    "def keyWORDS(name):\n",
    "    review_1 = review[review['가게이름']==name]\n",
    "    review_1 = review_1['리뷰'].to_list()\n",
    "\n",
    "    import re\n",
    "    review_filtered_1 = [str(string) for string in review_1]\n",
    "\n",
    "    from krwordrank.hangle import normalize\n",
    "\n",
    "    # texts = ['이것은 예문입니다', '각자의 데이터를 준비하세요' ]\n",
    "    texts =review_filtered_1\n",
    "\n",
    "    texts = [normalize(text, english=True, number=True) for text in texts]\n",
    "    from krwordrank.word import KRWordRank\n",
    "\n",
    "    wordrank_extractor = KRWordRank(\n",
    "        min_count = 5, # 단어의 최소 출현 빈도수 (그래프 생성 시)\n",
    "        max_length = 10, # 단어의 최대 길이\n",
    "        verbose = True\n",
    "        )\n",
    "\n",
    "    beta = 0.85    # PageRank의 decaying factor beta\n",
    "    max_iter = 10\n",
    "\n",
    "    keywords, rank, graph = wordrank_extractor.extract(texts, beta, max_iter)\n",
    "    for word, r in sorted(keywords.items(), key=lambda x:x[1], reverse=True)[:30]:\n",
    "        print('%8s:\\t%.4f' % (word, r))\n"
   ]
  },
  {
   "cell_type": "code",
   "execution_count": 36,
   "metadata": {},
   "outputs": [
    {
     "name": "stdout",
     "output_type": "stream",
     "text": [
      "scan vocabs ... \n",
      "num vocabs = 886\n",
      "done = 10\n",
      "     떡볶이:\t14.5042\n",
      "     핫도그:\t6.9355\n",
      "      너무:\t5.8616\n",
      "      맛있:\t4.4467\n",
      "      맛이:\t4.4172\n",
      "      매운:\t3.2561\n",
      "      진짜:\t2.7016\n",
      "      생각:\t2.3637\n",
      "      그냥:\t2.1400\n",
      "      여기:\t2.1206\n",
      "      계란:\t2.1083\n",
      "      같이:\t2.1079\n",
      "      먹는:\t2.0709\n",
      "      아니:\t2.0162\n",
      "      많이:\t1.9887\n",
      "      오뎅:\t1.9707\n",
      "     1인분:\t1.9658\n",
      "      저는:\t1.9513\n",
      "      소스:\t1.8366\n",
      "     그리고:\t1.7903\n",
      "      양념:\t1.7516\n",
      "      정말:\t1.7469\n",
      "      좋아:\t1.7463\n",
      "    신토불이:\t1.7013\n",
      "      맵고:\t1.6752\n",
      "      맛은:\t1.6153\n",
      "      먹으:\t1.5661\n",
      "      만두:\t1.5402\n",
      "      엄청:\t1.5227\n",
      "      주문:\t1.5046\n"
     ]
    }
   ],
   "source": [
    "keyWORDS('신토불이떡볶이')"
   ]
  },
  {
   "cell_type": "code",
   "execution_count": 31,
   "metadata": {},
   "outputs": [
    {
     "name": "stdout",
     "output_type": "stream",
     "text": [
      "scan vocabs ... \n",
      "num vocabs = 726\n",
      "done = 10\n",
      "      라멘:\t7.4586\n",
      "      맛있:\t4.9690\n",
      "     돈코츠:\t4.1469\n",
      "      국물:\t3.7293\n",
      "      건대:\t3.0668\n",
      "      너무:\t2.9868\n",
      "      차슈:\t2.8138\n",
      "      있는:\t2.4945\n",
      "      조금:\t2.3931\n",
      "    우마이도:\t2.2896\n",
      "      매운:\t1.9756\n",
      "      느끼:\t1.9473\n",
      "      맛이:\t1.9426\n",
      "     그래도:\t1.9341\n",
      "      하나:\t1.9308\n",
      "      같다:\t1.9108\n",
      "      짜다:\t1.8709\n",
      "      그냥:\t1.8399\n",
      "      마늘:\t1.7362\n",
      "      정말:\t1.7297\n",
      "      다른:\t1.6875\n",
      "     and:\t1.6530\n",
      "      먹은:\t1.6237\n",
      "    오리지널:\t1.5983\n",
      "      먹었:\t1.5913\n",
      "      계란:\t1.5730\n",
      "      일본:\t1.5604\n",
      "      느낌:\t1.4893\n",
      "      반숙:\t1.4641\n",
      "      나는:\t1.4621\n"
     ]
    }
   ],
   "source": [
    "keyWORDS('우마이도')"
   ]
  },
  {
   "cell_type": "code",
   "execution_count": 33,
   "metadata": {},
   "outputs": [
    {
     "name": "stdout",
     "output_type": "stream",
     "text": [
      "scan vocabs ... \n",
      "num vocabs = 880\n",
      "done = 10\n",
      "      냉면:\t4.7944\n",
      "      육수:\t4.6225\n",
      "      만두:\t4.3563\n",
      "      맛이:\t3.5964\n",
      "      평냉:\t3.2306\n",
      "      맛있:\t3.2223\n",
      "      다른:\t3.1139\n",
      "      가격:\t2.7875\n",
      "      평양:\t2.7369\n",
      "      너무:\t2.6265\n",
      "      살짝:\t2.4607\n",
      "      수육:\t2.3923\n",
      "      면이:\t2.3675\n",
      "      같이:\t2.2193\n",
      "      국물:\t2.2072\n",
      "      물냉:\t2.1546\n",
      "      있는:\t2.1431\n",
      "     동치미:\t2.0937\n",
      "      정말:\t2.0588\n",
      "      면발:\t1.9799\n",
      "      느낌:\t1.9419\n",
      "      주문:\t1.9141\n",
      "      고기:\t1.8162\n",
      "      편육:\t1.7882\n",
      "      생각:\t1.7795\n",
      "    서북면옥:\t1.7239\n",
      "     하지만:\t1.6909\n",
      "     슴슴한:\t1.6742\n",
      "      맛을:\t1.6722\n",
      "      육향:\t1.6627\n"
     ]
    }
   ],
   "source": [
    "keyWORDS('서북면옥')"
   ]
  },
  {
   "cell_type": "code",
   "execution_count": 38,
   "metadata": {},
   "outputs": [
    {
     "name": "stdout",
     "output_type": "stream",
     "text": [
      "scan vocabs ... \n",
      "num vocabs = 221\n",
      "done = 10\n",
      "      튀김:\t4.8904\n",
      "     떡볶이:\t4.7157\n",
      "      좋은:\t2.7071\n",
      "     분식집:\t1.9926\n",
      "      일반:\t1.7997\n",
      "      친절:\t1.6610\n",
      "      제일:\t1.6278\n",
      "     그리고:\t1.6117\n",
      "     가래떡:\t1.5733\n",
      "     오징어:\t1.5667\n",
      "      역시:\t1.4755\n",
      "      맛있:\t1.4309\n",
      "      중곡:\t1.3753\n",
      "      국물:\t1.3533\n",
      "      너무:\t1.2980\n",
      "      오뎅:\t1.1430\n",
      "      가게:\t1.0969\n",
      "      맛이:\t1.0423\n",
      "     사장님:\t1.0070\n",
      "      싶었:\t0.9774\n",
      "      조금:\t0.9547\n",
      "      맛집:\t0.9084\n",
      "     콩이네:\t0.8921\n",
      "      맛보:\t0.8740\n",
      "      주말:\t0.8365\n",
      "      느낌:\t0.8346\n",
      "      하나:\t0.8114\n",
      "     속초가:\t0.7696\n",
      "      있어:\t0.7642\n",
      "      들러:\t0.7597\n"
     ]
    }
   ],
   "source": [
    "keyWORDS('콩이네')"
   ]
  }
 ],
 "metadata": {
  "kernelspec": {
   "display_name": "Python 3.8.12 ('ds_study')",
   "language": "python",
   "name": "python3"
  },
  "language_info": {
   "codemirror_mode": {
    "name": "ipython",
    "version": 3
   },
   "file_extension": ".py",
   "mimetype": "text/x-python",
   "name": "python",
   "nbconvert_exporter": "python",
   "pygments_lexer": "ipython3",
   "version": "3.8.12"
  },
  "orig_nbformat": 4,
  "vscode": {
   "interpreter": {
    "hash": "ee17d55dc0ca9bce57a88b37df1d91484e5972bfb6f99f6b64b7675185bf3789"
   }
  }
 },
 "nbformat": 4,
 "nbformat_minor": 2
}
