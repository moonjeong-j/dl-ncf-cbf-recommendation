{
 "cells": [
  {
   "cell_type": "code",
   "execution_count": 125,
   "metadata": {},
   "outputs": [],
   "source": [
    "\n",
    "from sklearn.feature_extraction.text import CountVectorizer  # 피처 벡터화\n",
    "from sklearn.metrics.pairwise import cosine_similarity  # 코사인 유사도"
   ]
  },
  {
   "cell_type": "code",
   "execution_count": 127,
   "metadata": {},
   "outputs": [],
   "source": [
    "import pandas as pd\n",
    "review_jp =pd.read_csv('건대_군자_광진_일식_review_list.csv')\n",
    "review_kr=pd.read_csv('건대_군자_광진_한식_review_list.csv')\n",
    "review_chn=pd.read_csv('건대_군자_광진_중식_review_list.csv')\n",
    "\n",
    "\n"
   ]
  },
  {
   "cell_type": "code",
   "execution_count": 128,
   "metadata": {},
   "outputs": [],
   "source": [
    "review_all=pd.concat([review_jp,review_kr,review_chn])"
   ]
  },
  {
   "cell_type": "code",
   "execution_count": 129,
   "metadata": {},
   "outputs": [
    {
     "data": {
      "text/plain": [
       "array(['맛있다', '괜찮다', '별로'], dtype=object)"
      ]
     },
     "execution_count": 129,
     "metadata": {},
     "output_type": "execute_result"
    }
   ],
   "source": [
    "review_all['맛평가'].unique()"
   ]
  },
  {
   "cell_type": "code",
   "execution_count": 130,
   "metadata": {},
   "outputs": [
    {
     "data": {
      "text/plain": [
       "array(['초라멘', '소바쿠', '라멘다이야', '포비', '부탄츄', '마리모', '유미카츠', '스시붐', '노다메',\n",
       "       '겐로쿠우동', '멘쇼', '홍대돈부리', '끼니밥메시', '라멘미세', '소정백', '고씨네', '플레져',\n",
       "       '오코노미야키식당하나', '이이요', '케루악', '우마이도', '요마시', '초밥짓는원숭이', '건대스시', '호야',\n",
       "       '쉐프의콜렉션', '오사이초밥', '데판야끼 한', '코코이찌방야', '피읖', '포비의 행방불명', '스시오리',\n",
       "       '심야식당7925', '백소정', 'D 27', '고베규카츠', '팬더라이스', '일광', '와꼬스시', '달빛한점',\n",
       "       '오징어상미수산', '원조할아버지손두부', '이화만두', '서북면옥', '궤도에오르다', '콩이네', '은혜떡볶이',\n",
       "       '또래끼리', '골목에골목', '돕감자탕전문점', '신토불이떡볶이', '어멍네고기국수', '아찌떡볶이', '사대분식',\n",
       "       '송림식당', '망향비빔국수', '민속손국시', '콩불', '겨울나그네', '스위트앤카츠', '신선설농탕',\n",
       "       '할머니순대국', '올래상회', '정면', '뉴욕떡볶이', '대원칼국수', '알촌', '찡떡', '낙곱집',\n",
       "       '포크포크', '남한강민물매운탕', '환이네갈비살 (휴업중)', '태천면옥', '계탄집', '장인석닭한마리',\n",
       "       '고기굽는놈', '민정식당', '쭈꾸미킹', '뱃놈', '왕십리정곱창', '김돈이', '최신족발', '순곱이네',\n",
       "       '강릉엄지네꼬막집', '신사소곱창', '바른치킨', '양촌리생삼겹살', '등촌샤브칼국수', '봉추찜닭', '불난닭발',\n",
       "       '개미집', '강쇠네', '대명소곱창', '정통집', '영미오리탕', '독도수산', '선장훅', '명월관', '시홍쓰',\n",
       "       '송화산시도삭면', '빠오즈푸', '천향마라탕', '밍지황먼지찜닭', '미식반점', '백미원', '중경소면관',\n",
       "       '니뽕내뽕', '라화쿵부', '주하객잔', '천미향', '샤오롱바오', '동네수타짜장', '미미전병',\n",
       "       '미국가주우육면대왕', '란주우육면', '하오츠', '세종원', '시옌', '화원', '짬뽕지존', '동성관',\n",
       "       '허씨정통중경마라샹궈', '탕절대부', '춘선만두', '홍콩반점0410', '김사부계서도삭면', '짜장짬뽕의달인',\n",
       "       '복만루', '메이탄', '준성이네', '라공방', '길이식당', '전설의짬뽕', '탄탄면공방', '호운래',\n",
       "       '피슈마라홍탕', '참폰', '명품마라탕', '뽕사부', '맛이차이나', '아차성', '중국성', '차이797',\n",
       "       '중국관', '대중관', '양자강', '무명반점', '채린', '춘리마라탕', '레전드', '석기시대짜장마을',\n",
       "       '리하이', '매운향솥', '송화양꼬치', '얼땅쟈', '경성양육관', '고향양꼬치', '반티엔야오 카오위',\n",
       "       '화양식당', '봉자마라탕', '쿵푸소룽샤', '허씨전통중경마라쌍궈', '매화반점', '훈춘양꼬치', '청두인상',\n",
       "       '범가', '연길왕꼬치', '소성공자 샤브샤브', '월하식당', '몽다래향라관', '라와마라탕', '홍야동양꼬치훠궈',\n",
       "       '미친양꼬치', '마라샤브성', '중화닭날개구이', '매화양', '란주천면관', '라좡', '천지샤브샤브',\n",
       "       '미선미식성', '구구향훠궈', '무한양꼬치', '중경식객', '중경삼림', '홍매반점', '홍콩중화요리',\n",
       "       '춘향미엔', '백옥양꼬치', '탕화쿵푸마라탕', '순희냉면', '짠롱지아', '아리랑양꼬치', '용용선생',\n",
       "       '북경성훠궈', '하이난', '원조외파가마라탕마라샹궈', '대흥양다리바베큐', '명봉샤브샤브양꼬치', '해룡마라룽샤',\n",
       "       '하이디라오', '연길양꼬치', '램니쿠야', '해란양꼬치', '송쉐프', '원보양꼬치', '금룡', '금하'],\n",
       "      dtype=object)"
      ]
     },
     "execution_count": 130,
     "metadata": {},
     "output_type": "execute_result"
    }
   ],
   "source": [
    "review_all['가게이름'].unique()"
   ]
  },
  {
   "cell_type": "code",
   "execution_count": 131,
   "metadata": {},
   "outputs": [
    {
     "data": {
      "text/plain": [
       "207"
      ]
     },
     "execution_count": 131,
     "metadata": {},
     "output_type": "execute_result"
    }
   ],
   "source": [
    "len(review_all['가게이름'].unique())"
   ]
  },
  {
   "cell_type": "code",
   "execution_count": 132,
   "metadata": {},
   "outputs": [
    {
     "data": {
      "text/plain": [
       "신토불이떡볶이       127\n",
       "매운향솥          118\n",
       "우마이도          112\n",
       "매화반점          110\n",
       "이이요           101\n",
       "서북면옥           95\n",
       "빠오즈푸           90\n",
       "명봉샤브샤브양꼬치      86\n",
       "오코노미야키식당하나     66\n",
       "해룡마라룽샤         57\n",
       "Name: 가게이름, dtype: int64"
      ]
     },
     "execution_count": 132,
     "metadata": {},
     "output_type": "execute_result"
    }
   ],
   "source": [
    "review_all['가게이름'].value_counts()[:10]"
   ]
  },
  {
   "cell_type": "code",
   "execution_count": 133,
   "metadata": {},
   "outputs": [
    {
     "data": {
      "text/plain": [
       "{'신토불이떡볶이': 127,\n",
       " '매운향솥': 118,\n",
       " '우마이도': 112,\n",
       " '매화반점': 110,\n",
       " '이이요': 101,\n",
       " '서북면옥': 95,\n",
       " '빠오즈푸': 90,\n",
       " '명봉샤브샤브양꼬치': 86,\n",
       " '오코노미야키식당하나': 66,\n",
       " '해룡마라룽샤': 57}"
      ]
     },
     "execution_count": 133,
     "metadata": {},
     "output_type": "execute_result"
    }
   ],
   "source": [
    "dict(review_all['가게이름'].value_counts()[:10])"
   ]
  },
  {
   "cell_type": "code",
   "execution_count": 142,
   "metadata": {},
   "outputs": [],
   "source": [
    "most=dict(review_all['가게이름'].value_counts()[:20])"
   ]
  },
  {
   "cell_type": "code",
   "execution_count": 143,
   "metadata": {},
   "outputs": [
    {
     "data": {
      "text/plain": [
       "['신토불이떡볶이',\n",
       " '매운향솥',\n",
       " '우마이도',\n",
       " '매화반점',\n",
       " '이이요',\n",
       " '서북면옥',\n",
       " '빠오즈푸',\n",
       " '명봉샤브샤브양꼬치',\n",
       " '오코노미야키식당하나',\n",
       " '해룡마라룽샤',\n",
       " '복만루',\n",
       " '골목에골목',\n",
       " '돕감자탕전문점',\n",
       " '궤도에오르다',\n",
       " '송화산시도삭면',\n",
       " '노다메',\n",
       " '원조할아버지손두부',\n",
       " '봉자마라탕',\n",
       " '은혜떡볶이',\n",
       " '화양식당']"
      ]
     },
     "execution_count": 143,
     "metadata": {},
     "output_type": "execute_result"
    }
   ],
   "source": [
    "keys =[*most]\n",
    "keys"
   ]
  },
  {
   "cell_type": "code",
   "execution_count": 145,
   "metadata": {},
   "outputs": [],
   "source": [
    "import numpy\n",
    "import re\n",
    "\n",
    "def REVIEW_Concat_Str(review, food_type):\n",
    "    #리뷰를 가게 1개 각각 기준으로 합치기, 영어/숫자/특수문자 제거\n",
    "    review_all =[]\n",
    "    for i in range(len(review['가게이름'].unique())):\n",
    "        li=str(review[review['가게이름']==review['가게이름'].unique()[i]]['리뷰'])\n",
    "        \n",
    "        review_all.append(li)\n",
    "\n",
    "    df ={\n",
    "        'name' : review['가게이름'].unique(),\n",
    "        'review' :review_all,\n",
    "        'cate': food_type\n",
    "    }\n",
    "\n",
    "    review_concat =pd.DataFrame(df)\n",
    "    \n",
    "    review_concat['review']=[re.sub('[0-9A-Za-z-=+,#/\\?:^$.@*\\\"※~&%ㆍ!』\\\\‘|\\(\\)\\[\\]\\<\\>`\\'…》_]', '', str) for str in review_concat['review']]\n",
    "    # re.sub('[^A-Za-z0-9가-힣]', '', string)\n",
    "    return review_concat\n",
    "    "
   ]
  },
  {
   "cell_type": "code",
   "execution_count": 146,
   "metadata": {},
   "outputs": [],
   "source": [
    "review_concat_kr=REVIEW_Concat_Str(review_kr, '한식')\n",
    "review_concat_jp=REVIEW_Concat_Str(review_jp, '일식')\n",
    "review_concat_chn=REVIEW_Concat_Str(review_chn, '중식')\n"
   ]
  },
  {
   "cell_type": "code",
   "execution_count": 147,
   "metadata": {},
   "outputs": [],
   "source": [
    "review=pd.concat([review_concat_kr,review_concat_jp,review_concat_chn])"
   ]
  },
  {
   "cell_type": "code",
   "execution_count": 148,
   "metadata": {},
   "outputs": [
    {
     "data": {
      "text/html": [
       "<div>\n",
       "<style scoped>\n",
       "    .dataframe tbody tr th:only-of-type {\n",
       "        vertical-align: middle;\n",
       "    }\n",
       "\n",
       "    .dataframe tbody tr th {\n",
       "        vertical-align: top;\n",
       "    }\n",
       "\n",
       "    .dataframe thead th {\n",
       "        text-align: right;\n",
       "    }\n",
       "</style>\n",
       "<table border=\"1\" class=\"dataframe\">\n",
       "  <thead>\n",
       "    <tr style=\"text-align: right;\">\n",
       "      <th></th>\n",
       "      <th>name</th>\n",
       "      <th>review</th>\n",
       "      <th>cate</th>\n",
       "    </tr>\n",
       "  </thead>\n",
       "  <tbody>\n",
       "    <tr>\n",
       "      <th>0</th>\n",
       "      <td>원조할아버지손두부</td>\n",
       "      <td>아차산 등산 후 내려오는 길에 필수코스처럼 되어버린 두부집 늘 대기가 조금...</td>\n",
       "      <td>한식</td>\n",
       "    </tr>\n",
       "    <tr>\n",
       "      <th>1</th>\n",
       "      <td>이화만두</td>\n",
       "      <td>만두계의 강호동 덩치는 엄청 큰데 속은 왜 이렇게 부드러운거야이미 유명하고도...</td>\n",
       "      <td>한식</td>\n",
       "    </tr>\n",
       "    <tr>\n",
       "      <th>2</th>\n",
       "      <td>서북면옥</td>\n",
       "      <td>서울특별시 광진구 구의동에 위치한 서북면옥에서 물냉면천원과 접시만두 조각\\...</td>\n",
       "      <td>한식</td>\n",
       "    </tr>\n",
       "    <tr>\n",
       "      <th>3</th>\n",
       "      <td>궤도에오르다</td>\n",
       "      <td>기본에 충실해서 더 맛있었던 핫도그였습니다 들어가서 음식이 나오기까지는 꽤 ...</td>\n",
       "      <td>한식</td>\n",
       "    </tr>\n",
       "    <tr>\n",
       "      <th>4</th>\n",
       "      <td>콩이네</td>\n",
       "      <td>이사온 첫날 점심은 짜장면인데 집에서 먹기 싫어서밖으로 나와 망플을 켭니다위...</td>\n",
       "      <td>한식</td>\n",
       "    </tr>\n",
       "    <tr>\n",
       "      <th>...</th>\n",
       "      <td>...</td>\n",
       "      <td>...</td>\n",
       "      <td>...</td>\n",
       "    </tr>\n",
       "    <tr>\n",
       "      <th>104</th>\n",
       "      <td>해란양꼬치</td>\n",
       "      <td>양꼬치 옥수수면 감자 소고기를 시켰다 양고기는 서울 다른 곳에서 먹는 것보다...</td>\n",
       "      <td>중식</td>\n",
       "    </tr>\n",
       "    <tr>\n",
       "      <th>105</th>\n",
       "      <td>송쉐프</td>\n",
       "      <td>전가복도 맛있네욤이번에도 연태구냥과 볶음...</td>\n",
       "      <td>중식</td>\n",
       "    </tr>\n",
       "    <tr>\n",
       "      <th>106</th>\n",
       "      <td>원보양꼬치</td>\n",
       "      <td>건대입구에는 유명한 양꼬치골목이 있다 양꼬치집 가게들도 많은데 자주가는 몇 ...</td>\n",
       "      <td>중식</td>\n",
       "    </tr>\n",
       "    <tr>\n",
       "      <th>107</th>\n",
       "      <td>금룡</td>\n",
       "      <td>...</td>\n",
       "      <td>중식</td>\n",
       "    </tr>\n",
       "    <tr>\n",
       "      <th>108</th>\n",
       "      <td>금하</td>\n",
       "      <td>여름특선  중국냉면도 나름 깔끔하게 맛있는 곳손님 오시면 모시고 갈만한그\\n...</td>\n",
       "      <td>중식</td>\n",
       "    </tr>\n",
       "  </tbody>\n",
       "</table>\n",
       "<p>207 rows × 3 columns</p>\n",
       "</div>"
      ],
      "text/plain": [
       "          name                                             review cate\n",
       "0    원조할아버지손두부       아차산 등산 후 내려오는 길에 필수코스처럼 되어버린 두부집 늘 대기가 조금...   한식\n",
       "1         이화만두      만두계의 강호동 덩치는 엄청 큰데 속은 왜 이렇게 부드러운거야이미 유명하고도...   한식\n",
       "2         서북면옥       서울특별시 광진구 구의동에 위치한 서북면옥에서 물냉면천원과 접시만두 조각\\...   한식\n",
       "3       궤도에오르다      기본에 충실해서 더 맛있었던 핫도그였습니다 들어가서 음식이 나오기까지는 꽤 ...   한식\n",
       "4          콩이네      이사온 첫날 점심은 짜장면인데 집에서 먹기 싫어서밖으로 나와 망플을 켭니다위...   한식\n",
       "..         ...                                                ...  ...\n",
       "104      해란양꼬치      양꼬치 옥수수면 감자 소고기를 시켰다 양고기는 서울 다른 곳에서 먹는 것보다...   중식\n",
       "105        송쉐프                          전가복도 맛있네욤이번에도 연태구냥과 볶음...   중식\n",
       "106      원보양꼬치      건대입구에는 유명한 양꼬치골목이 있다 양꼬치집 가게들도 많은데 자주가는 몇 ...   중식\n",
       "107         금룡                                                ...   중식\n",
       "108         금하      여름특선  중국냉면도 나름 깔끔하게 맛있는 곳손님 오시면 모시고 갈만한그\\n...   중식\n",
       "\n",
       "[207 rows x 3 columns]"
      ]
     },
     "execution_count": 148,
     "metadata": {},
     "output_type": "execute_result"
    }
   ],
   "source": [
    "review"
   ]
  },
  {
   "cell_type": "code",
   "execution_count": 149,
   "metadata": {},
   "outputs": [
    {
     "data": {
      "text/html": [
       "<div>\n",
       "<style scoped>\n",
       "    .dataframe tbody tr th:only-of-type {\n",
       "        vertical-align: middle;\n",
       "    }\n",
       "\n",
       "    .dataframe tbody tr th {\n",
       "        vertical-align: top;\n",
       "    }\n",
       "\n",
       "    .dataframe thead th {\n",
       "        text-align: right;\n",
       "    }\n",
       "</style>\n",
       "<table border=\"1\" class=\"dataframe\">\n",
       "  <thead>\n",
       "    <tr style=\"text-align: right;\">\n",
       "      <th></th>\n",
       "      <th>name</th>\n",
       "      <th>review</th>\n",
       "      <th>cate</th>\n",
       "    </tr>\n",
       "  </thead>\n",
       "  <tbody>\n",
       "    <tr>\n",
       "      <th>0</th>\n",
       "      <td>원조할아버지손두부</td>\n",
       "      <td>아차산 등산 후 내려오는 길에 필수코스처럼 되어버린 두부집 늘 대기가 조금...</td>\n",
       "      <td>한식</td>\n",
       "    </tr>\n",
       "    <tr>\n",
       "      <th>2</th>\n",
       "      <td>서북면옥</td>\n",
       "      <td>서울특별시 광진구 구의동에 위치한 서북면옥에서 물냉면천원과 접시만두 조각\\...</td>\n",
       "      <td>한식</td>\n",
       "    </tr>\n",
       "    <tr>\n",
       "      <th>3</th>\n",
       "      <td>궤도에오르다</td>\n",
       "      <td>기본에 충실해서 더 맛있었던 핫도그였습니다 들어가서 음식이 나오기까지는 꽤 ...</td>\n",
       "      <td>한식</td>\n",
       "    </tr>\n",
       "    <tr>\n",
       "      <th>5</th>\n",
       "      <td>은혜떡볶이</td>\n",
       "      <td>와 여기 진짜 대학생 때부터 너무 가보고 싶었던 곳인데 이제서야 와본거 실화...</td>\n",
       "      <td>한식</td>\n",
       "    </tr>\n",
       "    <tr>\n",
       "      <th>7</th>\n",
       "      <td>골목에골목</td>\n",
       "      <td>깔끔하고 맛있고 양도 푸짐하다사장님 고생하시는거 같아 마...</td>\n",
       "      <td>한식</td>\n",
       "    </tr>\n",
       "    <tr>\n",
       "      <th>8</th>\n",
       "      <td>돕감자탕전문점</td>\n",
       "      <td>맛집인스타  건대에서 감자탕 맛집으로 손꼽히는 곳 지하까\\n        ...</td>\n",
       "      <td>한식</td>\n",
       "    </tr>\n",
       "    <tr>\n",
       "      <th>9</th>\n",
       "      <td>신토불이떡볶이</td>\n",
       "      <td>떡볶이를 너무 좋아하시는 분들이라면 모를 수 없는 아차산 신토불이 떡볶이에요...</td>\n",
       "      <td>한식</td>\n",
       "    </tr>\n",
       "    <tr>\n",
       "      <th>8</th>\n",
       "      <td>노다메</td>\n",
       "      <td>어린이대공원역 정갈한 카레 한상새우카레가 제일 맛있다새우튀김은 추가하여 \\...</td>\n",
       "      <td>일식</td>\n",
       "    </tr>\n",
       "    <tr>\n",
       "      <th>17</th>\n",
       "      <td>오코노미야키식당하나</td>\n",
       "      <td>정성이 가득 담긴 오코노미야키광진구에 있는 오코노미야키 가게 오코노미야키식당...</td>\n",
       "      <td>일식</td>\n",
       "    </tr>\n",
       "    <tr>\n",
       "      <th>18</th>\n",
       "      <td>이이요</td>\n",
       "      <td>군자에 위치한 덮밥 성지인스타는 물론 다양한 매체에서 눈을 자극하며가보고 싶...</td>\n",
       "      <td>일식</td>\n",
       "    </tr>\n",
       "    <tr>\n",
       "      <th>20</th>\n",
       "      <td>우마이도</td>\n",
       "      <td>건대 라멘 맛집  우마이도에서 돈코츠라멘 먹고 왔습니다  이치란라멘 비슷한 ...</td>\n",
       "      <td>일식</td>\n",
       "    </tr>\n",
       "    <tr>\n",
       "      <th>1</th>\n",
       "      <td>송화산시도삭면</td>\n",
       "      <td>여기 도삭면 진짜 맛있어요 지방에 사는 친구가 서울 올때마다 여기 찾습니다...</td>\n",
       "      <td>중식</td>\n",
       "    </tr>\n",
       "    <tr>\n",
       "      <th>2</th>\n",
       "      <td>빠오즈푸</td>\n",
       "      <td>고기빠오즈는 앉은 자리에서 스무개도 먹을수 있을 맛 육즙이 팡팡 터져서 너...</td>\n",
       "      <td>중식</td>\n",
       "    </tr>\n",
       "    <tr>\n",
       "      <th>29</th>\n",
       "      <td>복만루</td>\n",
       "      <td>짜장면과 탕수육을 주문했는데 일단 음식이나오는 속도는 엄청 빨라요 탕수육이 ...</td>\n",
       "      <td>중식</td>\n",
       "    </tr>\n",
       "    <tr>\n",
       "      <th>54</th>\n",
       "      <td>매운향솥</td>\n",
       "      <td>맛있다 ㅋㅋ진짜 소고기랑 스팸 왕창 때려넣고 만드는게 내입맛에는 맞...</td>\n",
       "      <td>중식</td>\n",
       "    </tr>\n",
       "    <tr>\n",
       "      <th>60</th>\n",
       "      <td>화양식당</td>\n",
       "      <td>도삭면 짬뽕을 못잊어 재재재방문한 화양식당 이번엔 제일 유명하다는 유린기중도...</td>\n",
       "      <td>중식</td>\n",
       "    </tr>\n",
       "    <tr>\n",
       "      <th>61</th>\n",
       "      <td>봉자마라탕</td>\n",
       "      <td>최자로드에 나와서 알게 된 봉자마라탕 마라탕 마라샹궈를 너무 사랑하는 사람들...</td>\n",
       "      <td>중식</td>\n",
       "    </tr>\n",
       "    <tr>\n",
       "      <th>64</th>\n",
       "      <td>매화반점</td>\n",
       "      <td>양꼬치는 안먹고 요리만 먹었어요고수무침 마파두부 부추볶음 어향가지 건두부무\\...</td>\n",
       "      <td>중식</td>\n",
       "    </tr>\n",
       "    <tr>\n",
       "      <th>99</th>\n",
       "      <td>명봉샤브샤브양꼬치</td>\n",
       "      <td>양고기...</td>\n",
       "      <td>중식</td>\n",
       "    </tr>\n",
       "    <tr>\n",
       "      <th>100</th>\n",
       "      <td>해룡마라룽샤</td>\n",
       "      <td>재방문한 해룡마라룽샤는 건대중식맛집으로도 이미 유명한데요  이번에는 세트로...</td>\n",
       "      <td>중식</td>\n",
       "    </tr>\n",
       "  </tbody>\n",
       "</table>\n",
       "</div>"
      ],
      "text/plain": [
       "           name                                             review cate\n",
       "0     원조할아버지손두부       아차산 등산 후 내려오는 길에 필수코스처럼 되어버린 두부집 늘 대기가 조금...   한식\n",
       "2          서북면옥       서울특별시 광진구 구의동에 위치한 서북면옥에서 물냉면천원과 접시만두 조각\\...   한식\n",
       "3        궤도에오르다      기본에 충실해서 더 맛있었던 핫도그였습니다 들어가서 음식이 나오기까지는 꽤 ...   한식\n",
       "5         은혜떡볶이      와 여기 진짜 대학생 때부터 너무 가보고 싶었던 곳인데 이제서야 와본거 실화...   한식\n",
       "7         골목에골목                 깔끔하고 맛있고 양도 푸짐하다사장님 고생하시는거 같아 마...   한식\n",
       "8       돕감자탕전문점       맛집인스타  건대에서 감자탕 맛집으로 손꼽히는 곳 지하까\\n        ...   한식\n",
       "9       신토불이떡볶이      떡볶이를 너무 좋아하시는 분들이라면 모를 수 없는 아차산 신토불이 떡볶이에요...   한식\n",
       "8           노다메       어린이대공원역 정갈한 카레 한상새우카레가 제일 맛있다새우튀김은 추가하여 \\...   일식\n",
       "17   오코노미야키식당하나      정성이 가득 담긴 오코노미야키광진구에 있는 오코노미야키 가게 오코노미야키식당...   일식\n",
       "18          이이요      군자에 위치한 덮밥 성지인스타는 물론 다양한 매체에서 눈을 자극하며가보고 싶...   일식\n",
       "20         우마이도      건대 라멘 맛집  우마이도에서 돈코츠라멘 먹고 왔습니다  이치란라멘 비슷한 ...   일식\n",
       "1       송화산시도삭면       여기 도삭면 진짜 맛있어요 지방에 사는 친구가 서울 올때마다 여기 찾습니다...   중식\n",
       "2          빠오즈푸       고기빠오즈는 앉은 자리에서 스무개도 먹을수 있을 맛 육즙이 팡팡 터져서 너...   중식\n",
       "29          복만루      짜장면과 탕수육을 주문했는데 일단 음식이나오는 속도는 엄청 빨라요 탕수육이 ...   중식\n",
       "54         매운향솥           맛있다 ㅋㅋ진짜 소고기랑 스팸 왕창 때려넣고 만드는게 내입맛에는 맞...   중식\n",
       "60         화양식당      도삭면 짬뽕을 못잊어 재재재방문한 화양식당 이번엔 제일 유명하다는 유린기중도...   중식\n",
       "61        봉자마라탕      최자로드에 나와서 알게 된 봉자마라탕 마라탕 마라샹궈를 너무 사랑하는 사람들...   중식\n",
       "64         매화반점      양꼬치는 안먹고 요리만 먹었어요고수무침 마파두부 부추볶음 어향가지 건두부무\\...   중식\n",
       "99    명봉샤브샤브양꼬치                                             양고기...   중식\n",
       "100      해룡마라룽샤       재방문한 해룡마라룽샤는 건대중식맛집으로도 이미 유명한데요  이번에는 세트로...   중식"
      ]
     },
     "execution_count": 149,
     "metadata": {},
     "output_type": "execute_result"
    }
   ],
   "source": [
    "review[review['name'].isin(keys)]"
   ]
  },
  {
   "cell_type": "code",
   "execution_count": 84,
   "metadata": {},
   "outputs": [],
   "source": [
    "count_vect_category = CountVectorizer(min_df=0, ngram_range=(1,2))\n",
    "place_category = count_vect_category.fit_transform(review['cate']) \n",
    "place_simi_cate = cosine_similarity(place_category, place_category) \n",
    "place_simi_cate_sorted_ind = place_simi_cate.argsort()[:, ::-1]"
   ]
  },
  {
   "cell_type": "code",
   "execution_count": 150,
   "metadata": {},
   "outputs": [],
   "source": [
    "# 리뷰 텍스트 데이터 간의 텍스트 피쳐 벡터라이징\n",
    "count_vect_review = CountVectorizer(min_df=2, ngram_range=(1,2))\n",
    "place_review = count_vect_review.fit_transform(review['review']) \n",
    "\n",
    "# 리뷰 텍스트 간의 코사인 유사도 따지기\n",
    "place_simi_review = cosine_similarity(place_review, place_review)\n",
    "place_simi_review_sorted_ind = place_simi_review.argsort()[:, ::-1]"
   ]
  },
  {
   "cell_type": "code",
   "execution_count": 151,
   "metadata": {},
   "outputs": [],
   "source": [
    "place_simi_co = (\n",
    "                 place_simi_cate * 0.1 # 공식 1. 카테고리 유사도\n",
    "                + place_simi_review * 1 # 공식 2. 리뷰 텍스트 유사도\n",
    "                 #+ np.repeat([df['kakao_blog_review_qty'].values], len(df['kakao_blog_review_qty']) , axis=0) * 0.001  # 공식 3. 블로그 리뷰가 얼마나 많이 올라왔는지\n",
    "                 #+ np.repeat([df['kakao_star_point'].values], len(df['kakao_star_point']) , axis=0) * 0.005            # 공식 4. 블로그 별점이 얼마나 높은지\n",
    "                 #+ np.repeat([df['kakao_star_point_qty'].values], len(df['kakao_star_point_qty']) , axis=0) * 0.001    # 공식 5. 블로그 별점 평가가 얼마나 많이 됐는지\n",
    "                 )\n",
    "\n",
    "\n",
    "\n",
    "place_simi_co_sorted_ind = place_simi_co.argsort()[:, ::-1] \n",
    "\n",
    "\n",
    "# 최종 구현 함수\n",
    "def find_simi_place(df, sorted_ind, place_name, top_n=10):\n",
    "    \n",
    "    place_title = df[df['name'] == place_name]\n",
    "    place_index = place_title.index.values\n",
    "    similar_indexes = sorted_ind[place_index, :(top_n)]\n",
    "    similar_indexes = similar_indexes.reshape(-1)\n",
    "    return df.iloc[similar_indexes]\n",
    "\n",
    "\n"
   ]
  },
  {
   "cell_type": "code",
   "execution_count": 152,
   "metadata": {},
   "outputs": [],
   "source": [
    "# place_simi_co = (\n",
    "#                   place_simi_cate * 0.0 # 카테고리 유사도\n",
    "#                 + place_simi_review * 1 # 리뷰 텍스트 유사도\n",
    "#                  #+ np.repeat([df['kakao_blog_review_qty'].values], len(df['kakao_blog_review_qty']) , axis=0) * 0.001  # 공식 3. 블로그 리뷰가 얼마나 많이 올라왔는지\n",
    "#                  #+ np.repeat([df['kakao_star_point'].values], len(df['kakao_star_point']) , axis=0) * 0.005            # 공식 4. 블로그 별점이 얼마나 높은지\n",
    "#                  #+ np.repeat([df['kakao_star_point_qty'].values], len(df['kakao_star_point_qty']) , axis=0) * 0.001    # 공식 5. 블로그 별점 평가가 얼마나 많이 됐는지\n",
    "#                  )"
   ]
  },
  {
   "cell_type": "code",
   "execution_count": 153,
   "metadata": {},
   "outputs": [],
   "source": [
    "place_simi_co = (\n",
    "                  place_simi_cate * 0.3 # 카테고리 유사도\n",
    "                + place_simi_review * 1 # 리뷰 텍스트 유사도\n",
    "                + np.repeat([review['point']], len(review['point']) , axis=0) * 0.005\n",
    "                #평가가 얼마나 좋은지\n",
    "                + np.repeat([review['qty'].values], len(review['qty']) , axis=0) * 0.001\n",
    "                 #+리뷰가 얼마나 많은지\n",
    "                 )"
   ]
  },
  {
   "cell_type": "code",
   "execution_count": 155,
   "metadata": {},
   "outputs": [
    {
     "data": {
      "text/html": [
       "<div>\n",
       "<style scoped>\n",
       "    .dataframe tbody tr th:only-of-type {\n",
       "        vertical-align: middle;\n",
       "    }\n",
       "\n",
       "    .dataframe tbody tr th {\n",
       "        vertical-align: top;\n",
       "    }\n",
       "\n",
       "    .dataframe thead th {\n",
       "        text-align: right;\n",
       "    }\n",
       "</style>\n",
       "<table border=\"1\" class=\"dataframe\">\n",
       "  <thead>\n",
       "    <tr style=\"text-align: right;\">\n",
       "      <th></th>\n",
       "      <th>name</th>\n",
       "      <th>review</th>\n",
       "      <th>cate</th>\n",
       "    </tr>\n",
       "  </thead>\n",
       "  <tbody>\n",
       "    <tr>\n",
       "      <th>9</th>\n",
       "      <td>신토불이떡볶이</td>\n",
       "      <td>떡볶이를 너무 좋아하시는 분들이라면 모를 수 없는 아차산 신토불이 떡볶이에요...</td>\n",
       "      <td>한식</td>\n",
       "    </tr>\n",
       "    <tr>\n",
       "      <th>7</th>\n",
       "      <td>골목에골목</td>\n",
       "      <td>깔끔하고 맛있고 양도 푸짐하다사장님 고생하시는거 같아 마...</td>\n",
       "      <td>한식</td>\n",
       "    </tr>\n",
       "    <tr>\n",
       "      <th>25</th>\n",
       "      <td>쉐프의콜렉션</td>\n",
       "      <td>돌아가는 길에 다음 예약 잡고 싶구요너무 맛있습니다 숙성회 처음에 한입거리\\...</td>\n",
       "      <td>일식</td>\n",
       "    </tr>\n",
       "    <tr>\n",
       "      <th>25</th>\n",
       "      <td>춘선만두</td>\n",
       "      <td>엉엉엉엉엉엉엉엉이 집 묘한 매력이 있다 향신료가 강해 망설여지나어느새인가 흡...</td>\n",
       "      <td>중식</td>\n",
       "    </tr>\n",
       "    <tr>\n",
       "      <th>0</th>\n",
       "      <td>원조할아버지손두부</td>\n",
       "      <td>아차산 등산 후 내려오는 길에 필수코스처럼 되어버린 두부집 늘 대기가 조금...</td>\n",
       "      <td>한식</td>\n",
       "    </tr>\n",
       "  </tbody>\n",
       "</table>\n",
       "</div>"
      ],
      "text/plain": [
       "         name                                             review cate\n",
       "9     신토불이떡볶이      떡볶이를 너무 좋아하시는 분들이라면 모를 수 없는 아차산 신토불이 떡볶이에요...   한식\n",
       "7       골목에골목                 깔끔하고 맛있고 양도 푸짐하다사장님 고생하시는거 같아 마...   한식\n",
       "25     쉐프의콜렉션      돌아가는 길에 다음 예약 잡고 싶구요너무 맛있습니다 숙성회 처음에 한입거리\\...   일식\n",
       "25       춘선만두      엉엉엉엉엉엉엉엉이 집 묘한 매력이 있다 향신료가 강해 망설여지나어느새인가 흡...   중식\n",
       "0   원조할아버지손두부       아차산 등산 후 내려오는 길에 필수코스처럼 되어버린 두부집 늘 대기가 조금...   한식"
      ]
     },
     "execution_count": 155,
     "metadata": {},
     "output_type": "execute_result"
    }
   ],
   "source": [
    "find_simi_place(review, place_simi_co_sorted_ind, '신토불이떡볶이', 5)"
   ]
  },
  {
   "cell_type": "code",
   "execution_count": 156,
   "metadata": {},
   "outputs": [
    {
     "data": {
      "text/html": [
       "<div>\n",
       "<style scoped>\n",
       "    .dataframe tbody tr th:only-of-type {\n",
       "        vertical-align: middle;\n",
       "    }\n",
       "\n",
       "    .dataframe tbody tr th {\n",
       "        vertical-align: top;\n",
       "    }\n",
       "\n",
       "    .dataframe thead th {\n",
       "        text-align: right;\n",
       "    }\n",
       "</style>\n",
       "<table border=\"1\" class=\"dataframe\">\n",
       "  <thead>\n",
       "    <tr style=\"text-align: right;\">\n",
       "      <th></th>\n",
       "      <th>name</th>\n",
       "      <th>review</th>\n",
       "      <th>cate</th>\n",
       "    </tr>\n",
       "  </thead>\n",
       "  <tbody>\n",
       "    <tr>\n",
       "      <th>18</th>\n",
       "      <td>스위트앤카츠</td>\n",
       "      <td>저만 몰랐나요 어린이대공원에 돈까스 무한리필이 있다는거  심지어 함께 이용할...</td>\n",
       "      <td>한식</td>\n",
       "    </tr>\n",
       "    <tr>\n",
       "      <th>35</th>\n",
       "      <td>민정식당</td>\n",
       "      <td>꽤 오래전부터 가고싶었는데 이제야 방문넷이서 수육큰것 돈까스 주문수육 양도 ...</td>\n",
       "      <td>한식</td>\n",
       "    </tr>\n",
       "    <tr>\n",
       "      <th>21</th>\n",
       "      <td>요마시</td>\n",
       "      <td>지나가다 그냥 들어간 거 였는데 주차도 쉽고 음식도 맛있었어요 돈까스 전문점...</td>\n",
       "      <td>일식</td>\n",
       "    </tr>\n",
       "    <tr>\n",
       "      <th>82</th>\n",
       "      <td>구구향훠궈</td>\n",
       "      <td>오늘의업보 협찬무한리필 꿔바로우로 반응이 좋았던 영상 구구향훠궈건대점 하지만...</td>\n",
       "      <td>중식</td>\n",
       "    </tr>\n",
       "    <tr>\n",
       "      <th>6</th>\n",
       "      <td>유미카츠</td>\n",
       "      <td>키오스크로 주문해서 셀프로 찾아먹는 돈까스 전문점이에요 셀프 시스템이지만 내...</td>\n",
       "      <td>일식</td>\n",
       "    </tr>\n",
       "  </tbody>\n",
       "</table>\n",
       "</div>"
      ],
      "text/plain": [
       "      name                                             review cate\n",
       "18  스위트앤카츠      저만 몰랐나요 어린이대공원에 돈까스 무한리필이 있다는거  심지어 함께 이용할...   한식\n",
       "35    민정식당      꽤 오래전부터 가고싶었는데 이제야 방문넷이서 수육큰것 돈까스 주문수육 양도 ...   한식\n",
       "21     요마시      지나가다 그냥 들어간 거 였는데 주차도 쉽고 음식도 맛있었어요 돈까스 전문점...   일식\n",
       "82   구구향훠궈      오늘의업보 협찬무한리필 꿔바로우로 반응이 좋았던 영상 구구향훠궈건대점 하지만...   중식\n",
       "6     유미카츠      키오스크로 주문해서 셀프로 찾아먹는 돈까스 전문점이에요 셀프 시스템이지만 내...   일식"
      ]
     },
     "execution_count": 156,
     "metadata": {},
     "output_type": "execute_result"
    }
   ],
   "source": [
    "find_simi_place(review, place_simi_co_sorted_ind, '이이요', 5)"
   ]
  },
  {
   "cell_type": "code",
   "execution_count": 157,
   "metadata": {},
   "outputs": [
    {
     "data": {
      "text/html": [
       "<div>\n",
       "<style scoped>\n",
       "    .dataframe tbody tr th:only-of-type {\n",
       "        vertical-align: middle;\n",
       "    }\n",
       "\n",
       "    .dataframe tbody tr th {\n",
       "        vertical-align: top;\n",
       "    }\n",
       "\n",
       "    .dataframe thead th {\n",
       "        text-align: right;\n",
       "    }\n",
       "</style>\n",
       "<table border=\"1\" class=\"dataframe\">\n",
       "  <thead>\n",
       "    <tr style=\"text-align: right;\">\n",
       "      <th></th>\n",
       "      <th>name</th>\n",
       "      <th>review</th>\n",
       "      <th>cate</th>\n",
       "    </tr>\n",
       "  </thead>\n",
       "  <tbody>\n",
       "    <tr>\n",
       "      <th>7</th>\n",
       "      <td>스시붐</td>\n",
       "      <td>맛이 좋았지만 기대에 비해서는 조금 아쉬운 곳이었습니다 이 곳의 대표메뉴인...</td>\n",
       "      <td>일식</td>\n",
       "    </tr>\n",
       "    <tr>\n",
       "      <th>0</th>\n",
       "      <td>원조할아버지손두부</td>\n",
       "      <td>아차산 등산 후 내려오는 길에 필수코스처럼 되어버린 두부집 늘 대기가 조금...</td>\n",
       "      <td>한식</td>\n",
       "    </tr>\n",
       "    <tr>\n",
       "      <th>40</th>\n",
       "      <td>오징어상미수산</td>\n",
       "      <td>연어회가 꽃처럼 피었습니다신선하고 윤기좌르르 흐르는 도톰한 연어를가성비 좋은...</td>\n",
       "      <td>일식</td>\n",
       "    </tr>\n",
       "    <tr>\n",
       "      <th>12</th>\n",
       "      <td>끼니밥메시</td>\n",
       "      <td>요즘 날이 더워지다 보니 뭔가 시원한 게 당기는데 내가 좋아하는 여기 끼니밥...</td>\n",
       "      <td>일식</td>\n",
       "    </tr>\n",
       "    <tr>\n",
       "      <th>13</th>\n",
       "      <td>동네수타짜장</td>\n",
       "      <td>해물가득해요 짜장짱맛 수타중에 최고에용\\n 리뷰</td>\n",
       "      <td>중식</td>\n",
       "    </tr>\n",
       "  </tbody>\n",
       "</table>\n",
       "</div>"
      ],
      "text/plain": [
       "         name                                             review cate\n",
       "7         스시붐       맛이 좋았지만 기대에 비해서는 조금 아쉬운 곳이었습니다 이 곳의 대표메뉴인...   일식\n",
       "0   원조할아버지손두부       아차산 등산 후 내려오는 길에 필수코스처럼 되어버린 두부집 늘 대기가 조금...   한식\n",
       "40    오징어상미수산      연어회가 꽃처럼 피었습니다신선하고 윤기좌르르 흐르는 도톰한 연어를가성비 좋은...   일식\n",
       "12      끼니밥메시      요즘 날이 더워지다 보니 뭔가 시원한 게 당기는데 내가 좋아하는 여기 끼니밥...   일식\n",
       "13     동네수타짜장                       해물가득해요 짜장짱맛 수타중에 최고에용\\n 리뷰     중식"
      ]
     },
     "execution_count": 157,
     "metadata": {},
     "output_type": "execute_result"
    }
   ],
   "source": [
    "find_simi_place(review, place_simi_co_sorted_ind, '매화반점', 5)"
   ]
  },
  {
   "cell_type": "code",
   "execution_count": null,
   "metadata": {},
   "outputs": [],
   "source": []
  },
  {
   "cell_type": "code",
   "execution_count": 158,
   "metadata": {},
   "outputs": [
    {
     "data": {
      "text/html": [
       "<div>\n",
       "<style scoped>\n",
       "    .dataframe tbody tr th:only-of-type {\n",
       "        vertical-align: middle;\n",
       "    }\n",
       "\n",
       "    .dataframe tbody tr th {\n",
       "        vertical-align: top;\n",
       "    }\n",
       "\n",
       "    .dataframe thead th {\n",
       "        text-align: right;\n",
       "    }\n",
       "</style>\n",
       "<table border=\"1\" class=\"dataframe\">\n",
       "  <thead>\n",
       "    <tr style=\"text-align: right;\">\n",
       "      <th></th>\n",
       "      <th>name</th>\n",
       "      <th>review</th>\n",
       "      <th>cate</th>\n",
       "    </tr>\n",
       "  </thead>\n",
       "  <tbody>\n",
       "    <tr>\n",
       "      <th>20</th>\n",
       "      <td>할머니순대국</td>\n",
       "      <td>대박 태어나서 이렇게 건더기 많은 순대국집 처음가봤다나는 서울사람이 아니고 ...</td>\n",
       "      <td>한식</td>\n",
       "    </tr>\n",
       "    <tr>\n",
       "      <th>60</th>\n",
       "      <td>화양식당</td>\n",
       "      <td>도삭면 짬뽕을 못잊어 재재재방문한 화양식당 이번엔 제일 유명하다는 유린기중도...</td>\n",
       "      <td>중식</td>\n",
       "    </tr>\n",
       "    <tr>\n",
       "      <th>17</th>\n",
       "      <td>하오츠</td>\n",
       "      <td>음 군자에서 제일 괜찮은 중국집이라해서 갔는데 간이 전반적으로 넘 심심해서 ...</td>\n",
       "      <td>중식</td>\n",
       "    </tr>\n",
       "    <tr>\n",
       "      <th>7</th>\n",
       "      <td>골목에골목</td>\n",
       "      <td>깔끔하고 맛있고 양도 푸짐하다사장님 고생하시는거 같아 마...</td>\n",
       "      <td>한식</td>\n",
       "    </tr>\n",
       "    <tr>\n",
       "      <th>34</th>\n",
       "      <td>D 27</td>\n",
       "      <td>얼마전에 다녀온 군자술집  이라는 곳은 군자역에서도 세종대와 근접하게 위차한...</td>\n",
       "      <td>일식</td>\n",
       "    </tr>\n",
       "  </tbody>\n",
       "</table>\n",
       "</div>"
      ],
      "text/plain": [
       "      name                                             review cate\n",
       "20  할머니순대국      대박 태어나서 이렇게 건더기 많은 순대국집 처음가봤다나는 서울사람이 아니고 ...   한식\n",
       "60    화양식당      도삭면 짬뽕을 못잊어 재재재방문한 화양식당 이번엔 제일 유명하다는 유린기중도...   중식\n",
       "17     하오츠      음 군자에서 제일 괜찮은 중국집이라해서 갔는데 간이 전반적으로 넘 심심해서 ...   중식\n",
       "7    골목에골목                 깔끔하고 맛있고 양도 푸짐하다사장님 고생하시는거 같아 마...   한식\n",
       "34    D 27      얼마전에 다녀온 군자술집  이라는 곳은 군자역에서도 세종대와 근접하게 위차한...   일식"
      ]
     },
     "execution_count": 158,
     "metadata": {},
     "output_type": "execute_result"
    }
   ],
   "source": [
    "find_simi_place(review, place_simi_co_sorted_ind, '우마이도', 5)"
   ]
  },
  {
   "cell_type": "code",
   "execution_count": 170,
   "metadata": {},
   "outputs": [
    {
     "data": {
      "text/html": [
       "<div>\n",
       "<style scoped>\n",
       "    .dataframe tbody tr th:only-of-type {\n",
       "        vertical-align: middle;\n",
       "    }\n",
       "\n",
       "    .dataframe tbody tr th {\n",
       "        vertical-align: top;\n",
       "    }\n",
       "\n",
       "    .dataframe thead th {\n",
       "        text-align: right;\n",
       "    }\n",
       "</style>\n",
       "<table border=\"1\" class=\"dataframe\">\n",
       "  <thead>\n",
       "    <tr style=\"text-align: right;\">\n",
       "      <th></th>\n",
       "      <th>name</th>\n",
       "      <th>review</th>\n",
       "      <th>cate</th>\n",
       "    </tr>\n",
       "  </thead>\n",
       "  <tbody>\n",
       "    <tr>\n",
       "      <th>2</th>\n",
       "      <td>서북면옥</td>\n",
       "      <td>서울특별시 광진구 구의동에 위치한 서북면옥에서 물냉면천원과 접시만두 조각\\...</td>\n",
       "      <td>한식</td>\n",
       "    </tr>\n",
       "    <tr>\n",
       "      <th>31</th>\n",
       "      <td>태천면옥</td>\n",
       "      <td>지금 능라도강남점삼성동이 역삼동에 있을때 그곳에서 주방 면장을 하셨던 분이 ...</td>\n",
       "      <td>한식</td>\n",
       "    </tr>\n",
       "    <tr>\n",
       "      <th>40</th>\n",
       "      <td>오징어상미수산</td>\n",
       "      <td>연어회가 꽃처럼 피었습니다신선하고 윤기좌르르 흐르는 도톰한 연어를가성비 좋은...</td>\n",
       "      <td>일식</td>\n",
       "    </tr>\n",
       "    <tr>\n",
       "      <th>85</th>\n",
       "      <td>중경삼림</td>\n",
       "      <td>무나리뷰 둘 다 쥐긴 쉽지않을껄건대 커먼그라운드 층에 위치한 중경삼림은 오픈...</td>\n",
       "      <td>중식</td>\n",
       "    </tr>\n",
       "    <tr>\n",
       "      <th>66</th>\n",
       "      <td>청두인상</td>\n",
       "      <td>요약 쏸차이위를 찾아 떠났던 곳이지만 알고보니 사천음식 전부 잘하는 식당 고...</td>\n",
       "      <td>중식</td>\n",
       "    </tr>\n",
       "  </tbody>\n",
       "</table>\n",
       "</div>"
      ],
      "text/plain": [
       "       name                                             review cate\n",
       "2      서북면옥       서울특별시 광진구 구의동에 위치한 서북면옥에서 물냉면천원과 접시만두 조각\\...   한식\n",
       "31     태천면옥      지금 능라도강남점삼성동이 역삼동에 있을때 그곳에서 주방 면장을 하셨던 분이 ...   한식\n",
       "40  오징어상미수산      연어회가 꽃처럼 피었습니다신선하고 윤기좌르르 흐르는 도톰한 연어를가성비 좋은...   일식\n",
       "85     중경삼림      무나리뷰 둘 다 쥐긴 쉽지않을껄건대 커먼그라운드 층에 위치한 중경삼림은 오픈...   중식\n",
       "66     청두인상      요약 쏸차이위를 찾아 떠났던 곳이지만 알고보니 사천음식 전부 잘하는 식당 고...   중식"
      ]
     },
     "execution_count": 170,
     "metadata": {},
     "output_type": "execute_result"
    }
   ],
   "source": [
    "find_simi_place(review, place_simi_co_sorted_ind, '서북면옥', 5)"
   ]
  },
  {
   "cell_type": "code",
   "execution_count": 171,
   "metadata": {},
   "outputs": [
    {
     "data": {
      "text/html": [
       "<div>\n",
       "<style scoped>\n",
       "    .dataframe tbody tr th:only-of-type {\n",
       "        vertical-align: middle;\n",
       "    }\n",
       "\n",
       "    .dataframe tbody tr th {\n",
       "        vertical-align: top;\n",
       "    }\n",
       "\n",
       "    .dataframe thead th {\n",
       "        text-align: right;\n",
       "    }\n",
       "</style>\n",
       "<table border=\"1\" class=\"dataframe\">\n",
       "  <thead>\n",
       "    <tr style=\"text-align: right;\">\n",
       "      <th></th>\n",
       "      <th>name</th>\n",
       "      <th>review</th>\n",
       "      <th>cate</th>\n",
       "    </tr>\n",
       "  </thead>\n",
       "  <tbody>\n",
       "    <tr>\n",
       "      <th>11</th>\n",
       "      <td>아찌떡볶이</td>\n",
       "      <td>딱 아는 떡볶이 맛이지만 계속해서 손이가는 맛떡이 길고 얇아 오물오물 씹어먹...</td>\n",
       "      <td>한식</td>\n",
       "    </tr>\n",
       "    <tr>\n",
       "      <th>7</th>\n",
       "      <td>골목에골목</td>\n",
       "      <td>깔끔하고 맛있고 양도 푸짐하다사장님 고생하시는거 같아 마...</td>\n",
       "      <td>한식</td>\n",
       "    </tr>\n",
       "    <tr>\n",
       "      <th>23</th>\n",
       "      <td>뉴욕떡볶이</td>\n",
       "      <td>년째 자주가는 동네떡볶이집가격도 착하고 맛있고 최고에요단골집 잘되길 바라는마...</td>\n",
       "      <td>한식</td>\n",
       "    </tr>\n",
       "    <tr>\n",
       "      <th>4</th>\n",
       "      <td>콩이네</td>\n",
       "      <td>이사온 첫날 점심은 짜장면인데 집에서 먹기 싫어서밖으로 나와 망플을 켭니다위...</td>\n",
       "      <td>한식</td>\n",
       "    </tr>\n",
       "    <tr>\n",
       "      <th>20</th>\n",
       "      <td>할머니순대국</td>\n",
       "      <td>대박 태어나서 이렇게 건더기 많은 순대국집 처음가봤다나는 서울사람이 아니고 ...</td>\n",
       "      <td>한식</td>\n",
       "    </tr>\n",
       "  </tbody>\n",
       "</table>\n",
       "</div>"
      ],
      "text/plain": [
       "      name                                             review cate\n",
       "11   아찌떡볶이      딱 아는 떡볶이 맛이지만 계속해서 손이가는 맛떡이 길고 얇아 오물오물 씹어먹...   한식\n",
       "7    골목에골목                 깔끔하고 맛있고 양도 푸짐하다사장님 고생하시는거 같아 마...   한식\n",
       "23   뉴욕떡볶이      년째 자주가는 동네떡볶이집가격도 착하고 맛있고 최고에요단골집 잘되길 바라는마...   한식\n",
       "4      콩이네      이사온 첫날 점심은 짜장면인데 집에서 먹기 싫어서밖으로 나와 망플을 켭니다위...   한식\n",
       "20  할머니순대국      대박 태어나서 이렇게 건더기 많은 순대국집 처음가봤다나는 서울사람이 아니고 ...   한식"
      ]
     },
     "execution_count": 171,
     "metadata": {},
     "output_type": "execute_result"
    }
   ],
   "source": [
    "find_simi_place(review, place_simi_co_sorted_ind, '아찌떡볶이', 5)"
   ]
  },
  {
   "cell_type": "code",
   "execution_count": null,
   "metadata": {},
   "outputs": [],
   "source": []
  }
 ],
 "metadata": {
  "kernelspec": {
   "display_name": "Python 3.8.12 ('ds_study')",
   "language": "python",
   "name": "python3"
  },
  "language_info": {
   "codemirror_mode": {
    "name": "ipython",
    "version": 3
   },
   "file_extension": ".py",
   "mimetype": "text/x-python",
   "name": "python",
   "nbconvert_exporter": "python",
   "pygments_lexer": "ipython3",
   "version": "3.8.12"
  },
  "orig_nbformat": 4,
  "vscode": {
   "interpreter": {
    "hash": "ee17d55dc0ca9bce57a88b37df1d91484e5972bfb6f99f6b64b7675185bf3789"
   }
  }
 },
 "nbformat": 4,
 "nbformat_minor": 2
}
