{
 "cells": [
  {
   "cell_type": "code",
   "execution_count": null,
   "metadata": {},
   "outputs": [],
   "source": [
    "# directions 5는 출발지(start), 도착지(goal), 경유지(waypoint)를 지정하여 경로를 탐색할 수 있기 때문에, 세 가지 주소를 입력하여 geocode를 적용해보았다."
   ]
  },
  {
   "cell_type": "code",
   "execution_count": 6,
   "metadata": {},
   "outputs": [
    {
     "name": "stdout",
     "output_type": "stream",
     "text": [
      "{'status': 'OK', 'meta': {'totalCount': 1, 'page': 1, 'count': 1}, 'addresses': [{'roadAddress': '경기도 성남시 분당구 미금일로74번길 5-1', 'jibunAddress': '경기도 성남시 분당구 구미동 60-3', 'englishAddress': '5-1, Migeumil-ro 74beon-gil, Bundang-gu, Seongnam-si, Gyeonggi-do, Republic of Korea', 'addressElements': [{'types': ['SIDO'], 'longName': '경기도', 'shortName': '경기도', 'code': ''}, {'types': ['SIGUGUN'], 'longName': '성남시 분당구', 'shortName': '성남시 분당구', 'code': ''}, {'types': ['DONGMYUN'], 'longName': '구미동', 'shortName': '구미동', 'code': ''}, {'types': ['RI'], 'longName': '', 'shortName': '', 'code': ''}, {'types': ['ROAD_NAME'], 'longName': '미금일로74번길', 'shortName': '미금일로74번길', 'code': ''}, {'types': ['BUILDING_NUMBER'], 'longName': '5-1', 'shortName': '5-1', 'code': ''}, {'types': ['BUILDING_NAME'], 'longName': '', 'shortName': '', 'code': ''}, {'types': ['LAND_NUMBER'], 'longName': '60-3', 'shortName': '60-3', 'code': ''}, {'types': ['POSTAL_CODE'], 'longName': '13627', 'shortName': '13627', 'code': ''}], 'x': '127.1113710', 'y': '37.3461413', 'distance': 0.0}], 'errorMessage': ''}\n",
      "{'status': 'OK', 'meta': {'totalCount': 1, 'page': 1, 'count': 1}, 'addresses': [{'roadAddress': '경기도 성남시 분당구 정자일로 1 코오롱트리폴리스1', 'jibunAddress': '경기도 성남시 분당구 금곡동 210 코오롱트리폴리스1', 'englishAddress': '1, Jeongjail-ro, Bundang-gu, Seongnam-si, Gyeonggi-do, Republic of Korea', 'addressElements': [{'types': ['SIDO'], 'longName': '경기도', 'shortName': '경기도', 'code': ''}, {'types': ['SIGUGUN'], 'longName': '성남시 분당구', 'shortName': '성남시 분당구', 'code': ''}, {'types': ['DONGMYUN'], 'longName': '금곡동', 'shortName': '금곡동', 'code': ''}, {'types': ['RI'], 'longName': '', 'shortName': '', 'code': ''}, {'types': ['ROAD_NAME'], 'longName': '정자일로', 'shortName': '정자일로', 'code': ''}, {'types': ['BUILDING_NUMBER'], 'longName': '1', 'shortName': '1', 'code': ''}, {'types': ['BUILDING_NAME'], 'longName': '코오롱트리폴리스1', 'shortName': '코오롱트리폴리스1', 'code': ''}, {'types': ['LAND_NUMBER'], 'longName': '210', 'shortName': '210', 'code': ''}, {'types': ['POSTAL_CODE'], 'longName': '13616', 'shortName': '13616', 'code': ''}], 'x': '127.1054067', 'y': '37.3508024', 'distance': 0.0}], 'errorMessage': ''}\n",
      "{'status': 'OK', 'meta': {'totalCount': 1, 'page': 1, 'count': 1}, 'addresses': [{'roadAddress': '', 'jibunAddress': '경기도 성남시 분당구 구미동 96-3', 'englishAddress': '96-3, Gumi-dong, Bundang-gu, Seongnam-si, Gyeonggi-do, Republic of Korea', 'addressElements': [{'types': ['SIDO'], 'longName': '경기도', 'shortName': '경기도', 'code': ''}, {'types': ['SIGUGUN'], 'longName': '성남시 분당구', 'shortName': '성남시 분당구', 'code': ''}, {'types': ['DONGMYUN'], 'longName': '구미동', 'shortName': '구미동', 'code': ''}, {'types': ['RI'], 'longName': '', 'shortName': '', 'code': ''}, {'types': ['ROAD_NAME'], 'longName': '', 'shortName': '', 'code': ''}, {'types': ['BUILDING_NUMBER'], 'longName': '', 'shortName': '', 'code': ''}, {'types': ['BUILDING_NAME'], 'longName': '', 'shortName': '', 'code': ''}, {'types': ['LAND_NUMBER'], 'longName': '96-3', 'shortName': '96-3', 'code': ''}, {'types': ['POSTAL_CODE'], 'longName': '', 'shortName': '', 'code': ''}], 'x': '127.1103342', 'y': '37.3472702', 'distance': 0.0}], 'errorMessage': ''}\n"
     ]
    }
   ],
   "source": [
    "\n",
    "\n",
    "\n",
    "# *-- Geocoding 활용 코드 --*\n",
    "import json\n",
    "import urllib\n",
    "from urllib.request import Request, urlopen\n",
    "# *-- 3개의 주소 geocoding으로 변환한다.(출발지, 도착지, 경유지) --*\n",
    "start = '경기도 성남시 분당구 구미동 60-3'\n",
    "waypoint = '경기도 성남시 분당구 구미동 96-3'\n",
    "goal = '경기도 성남시 분당구 금곡동 210'\n",
    "\n",
    "\n",
    "# 주소에 geocoding 적용하는 함수를 작성.\n",
    "def get_location(loc) :\n",
    "    client_id = ''\n",
    "    client_secret = ''\n",
    "    url = f\"https://naveropenapi.apigw.ntruss.com/map-geocode/v2/geocode?query=\" \\\n",
    "    \t\t\t+ urllib.parse.quote(loc)\n",
    "    \n",
    "    # 주소 변환\n",
    "    request = urllib.request.Request(url)\n",
    "    request.add_header('X-NCP-APIGW-API-KEY-ID', client_id)\n",
    "    request.add_header('X-NCP-APIGW-API-KEY', client_secret)\n",
    "    \n",
    "    response = urlopen(request)\n",
    "    res = response.getcode()\n",
    "    \n",
    "    if (res == 200) : # 응답이 정상적으로 완료되면 200을 return한다\n",
    "        response_body = response.read().decode('utf-8')\n",
    "        response_body = json.loads(response_body)\n",
    "        print(response_body)\n",
    "        # 주소가 존재할 경우 total count == 1이 반환됨.\n",
    "        if response_body['meta']['totalCount'] == 1 : \n",
    "        \t# 위도, 경도 좌표를 받아와서 return해 줌.\n",
    "            lat = response_body['addresses'][0]['y']\n",
    "            lon = response_body['addresses'][0]['x']\n",
    "            return (lon, lat)\n",
    "        else :\n",
    "            print('location not exist')\n",
    "        \n",
    "    else :\n",
    "        print('ERROR')\n",
    "        \n",
    "#  함수 적용\n",
    "start = get_location(start)\n",
    "goal = get_location(goal)\n",
    "waypoint = get_location(waypoint)"
   ]
  },
  {
   "cell_type": "code",
   "execution_count": 7,
   "metadata": {},
   "outputs": [
    {
     "name": "stdout",
     "output_type": "stream",
     "text": [
      "('127.1113710', '37.3461413')\n",
      "('127.1054067', '37.3508024')\n",
      "('127.1103342', '37.3472702')\n"
     ]
    }
   ],
   "source": [
    "print(start)\n",
    "print(goal)\n",
    "print(waypoint)"
   ]
  },
  {
   "cell_type": "code",
   "execution_count": 29,
   "metadata": {},
   "outputs": [
    {
     "data": {
      "text/plain": [
       "{'code': 0,\n",
       " 'message': '길찾기를 성공하였습니다.',\n",
       " 'currentDateTime': '2022-06-19T17:55:08',\n",
       " 'route': {'traoptimal': [{'summary': {'start': {'location': [127.1113707,\n",
       "       37.3461407]},\n",
       "     'goal': {'location': [127.1054065, 37.3508018], 'dir': 1},\n",
       "     'distance': 1198,\n",
       "     'duration': 297209,\n",
       "     'etaServiceType': 0,\n",
       "     'departureTime': '2022-06-19T17:55:08',\n",
       "     'bbox': [[127.1054065, 37.3461407], [127.1120325, 37.3513708]],\n",
       "     'tollFare': 0,\n",
       "     'taxiFare': 3800,\n",
       "     'fuelPrice': 180},\n",
       "    'path': [[127.111368, 37.3462299],\n",
       "     [127.1115746, 37.3462333],\n",
       "     [127.1116241, 37.3462578],\n",
       "     [127.1116375, 37.3462993],\n",
       "     [127.111654, 37.3465995],\n",
       "     [127.1116373, 37.3469825],\n",
       "     [127.1119716, 37.3469782],\n",
       "     [127.1120325, 37.3469775],\n",
       "     [127.1120309, 37.3470812],\n",
       "     [127.1120285, 37.3473227],\n",
       "     [127.1120224, 37.3476346],\n",
       "     [127.1120222, 37.3476643],\n",
       "     [127.1120233, 37.3476824],\n",
       "     [127.112019, 37.3480681],\n",
       "     [127.1120199, 37.3481159],\n",
       "     [127.1120209, 37.3481448],\n",
       "     [127.1120237, 37.3486982],\n",
       "     [127.1120113, 37.3491309],\n",
       "     [127.1120097, 37.3492219],\n",
       "     [127.1120064, 37.3494166],\n",
       "     [127.1120064, 37.3494202],\n",
       "     [127.1120063, 37.3494508],\n",
       "     [127.1120048, 37.3495157],\n",
       "     [127.1120054, 37.3498357],\n",
       "     [127.1120066, 37.3500521],\n",
       "     [127.1118824, 37.3500498],\n",
       "     [127.1110672, 37.3500381],\n",
       "     [127.1108414, 37.3500338],\n",
       "     [127.1098525, 37.3500125],\n",
       "     [127.1092315, 37.3499987],\n",
       "     [127.109227, 37.3499987],\n",
       "     [127.1091548, 37.3499976],\n",
       "     [127.109017, 37.3499944],\n",
       "     [127.1088194, 37.3499956],\n",
       "     [127.1087088, 37.3499988],\n",
       "     [127.1086184, 37.3500012],\n",
       "     [127.107994, 37.3500181],\n",
       "     [127.1069731, 37.3500444],\n",
       "     [127.1064954, 37.35006],\n",
       "     [127.1063611, 37.3500613],\n",
       "     [127.1063612, 37.350247],\n",
       "     [127.1063612, 37.3502506],\n",
       "     [127.1063615, 37.3506247],\n",
       "     [127.1063456, 37.3508653],\n",
       "     [127.1063199, 37.351251],\n",
       "     [127.1062966, 37.3513708],\n",
       "     [127.106151, 37.3513704],\n",
       "     [127.1056373, 37.3513659],\n",
       "     [127.1056388, 37.3512839],\n",
       "     [127.1056389, 37.351265]],\n",
       "    'section': [{'pointIndex': 7,\n",
       "      'pointCount': 10,\n",
       "      'distance': 191,\n",
       "      'name': '미금일로70번길',\n",
       "      'congestion': 3,\n",
       "      'speed': 24},\n",
       "     {'pointIndex': 16,\n",
       "      'pointCount': 9,\n",
       "      'distance': 151,\n",
       "      'name': '돌마로90번길',\n",
       "      'congestion': 3,\n",
       "      'speed': 8},\n",
       "     {'pointIndex': 24,\n",
       "      'pointCount': 16,\n",
       "      'distance': 501,\n",
       "      'name': '돌마로',\n",
       "      'congestion': 2,\n",
       "      'speed': 24}],\n",
       "    'guide': [{'pointIndex': 5,\n",
       "      'type': 3,\n",
       "      'instructions': '우회전',\n",
       "      'distance': 105,\n",
       "      'duration': 33906},\n",
       "     {'pointIndex': 7,\n",
       "      'type': 2,\n",
       "      'instructions': \"'미금일로70번길' 방면으로 좌회전\",\n",
       "      'distance': 35,\n",
       "      'duration': 8399},\n",
       "     {'pointIndex': 24,\n",
       "      'type': 2,\n",
       "      'instructions': \"'분당수서로, 미금역' 방면으로 좌회전\",\n",
       "      'distance': 342,\n",
       "      'duration': 91213},\n",
       "     {'pointIndex': 39,\n",
       "      'type': 3,\n",
       "      'instructions': \"머내공원사거리에서 '정자일로' 방면으로 우회전\",\n",
       "      'distance': 501,\n",
       "      'duration': 74206},\n",
       "     {'pointIndex': 45,\n",
       "      'type': 8,\n",
       "      'instructions': '비보호 좌회전',\n",
       "      'distance': 146,\n",
       "      'duration': 41127},\n",
       "     {'pointIndex': 47,\n",
       "      'type': 2,\n",
       "      'instructions': '좌회전',\n",
       "      'distance': 58,\n",
       "      'duration': 41759},\n",
       "     {'pointIndex': 49,\n",
       "      'type': 88,\n",
       "      'instructions': '목적지',\n",
       "      'distance': 11,\n",
       "      'duration': 6599}]}]}}"
      ]
     },
     "execution_count": 29,
     "metadata": {},
     "output_type": "execute_result"
    }
   ],
   "source": [
    "\n",
    "\n",
    "# *-- Directions 5 활용 코드 --*\n",
    "option = 'traoptimal'\n",
    "# option : 탐색옵션 [최대 3개, traoptimal(기본 옵션) \n",
    "# / trafast, tracomfort, traavoidtoll, traavoidcaronly]\n",
    "\n",
    "\n",
    "def get_optimal_route(start, goal, waypoints=['',''], option=option) :\n",
    "    global url\n",
    "    global request\n",
    "    \n",
    "    client_id = '0w5w7w7xxi'\n",
    "    client_secret = '361DM28Tr2Pk66ud0ekGuA6pGYK3OqfZkfN1Kp7v' \n",
    "    # start=/goal=/(waypoint=)/(option=) 순으로 request parameter 지정\n",
    "    url = f\"https://naveropenapi.apigw.ntruss.com/map-direction-15/v1/driving?\\\n",
    "    start={start[0]},{start[1]}&goal={goal[0]},{goal[1]}\\\n",
    "    &waypoint={waypoint[0]},{waypoint[1]}&option={option}\"\n",
    "    url = url.replace(\" \", \"\")\n",
    "    request = urllib.request.Request(url)\n",
    "    request.add_header('X-NCP-APIGW-API-KEY-ID', client_id)\n",
    "    request.add_header('X-NCP-APIGW-API-KEY', client_secret)\n",
    "    \n",
    "    response = urllib.request.urlopen(request)\n",
    "    res = response.getcode()\n",
    "    \n",
    "    if (res == 200) :\n",
    "        response_body = response.read().decode('utf-8')\n",
    "        return json.loads(response_body)\n",
    "            \n",
    "    else :\n",
    "        print('ERROR')\n",
    "\n",
    "    \n",
    "        \n",
    "get_optimal_route(start, goal, option=option)\n"
   ]
  },
  {
   "cell_type": "code",
   "execution_count": 26,
   "metadata": {},
   "outputs": [
    {
     "data": {
      "text/plain": [
       "'https://naveropenapi.apigw.ntruss.com/map-direction-15/v1/driving?start=127.1113710,37.3461413&goal=127.1054067,37.3508024&waypoint=127.1103342,37.3472702&option=traoptimal'"
      ]
     },
     "execution_count": 26,
     "metadata": {},
     "output_type": "execute_result"
    }
   ],
   "source": [
    "url"
   ]
  },
  {
   "cell_type": "code",
   "execution_count": 30,
   "metadata": {},
   "outputs": [
    {
     "data": {
      "text/plain": [
       "<urllib.request.Request at 0x7fed20118fd0>"
      ]
     },
     "execution_count": 30,
     "metadata": {},
     "output_type": "execute_result"
    }
   ],
   "source": [
    "request"
   ]
  },
  {
   "cell_type": "code",
   "execution_count": 9,
   "metadata": {},
   "outputs": [],
   "source": [
    "results=get_optimal_route(start, goal, option=option)\n"
   ]
  },
  {
   "cell_type": "code",
   "execution_count": 10,
   "metadata": {},
   "outputs": [
    {
     "name": "stdout",
     "output_type": "stream",
     "text": [
      "{'message': '길찾기를 성공하였습니다.', 'option': 'traoptimal', 'total_distance': 1061, 'total_duration': 352580, 'fares': {'toll': 0, 'taxi': 3800, 'fuel': 159}}\n",
      "[('좌회전', 170, 67.377), (\"'미금일로90번길' 방면으로 우회전\", 37, 10.246), (\"'성남대로144번길' 방면으로 좌회전\", 190, 48.856), (\"'성남대로' 방면으로 우회전\", 78, 21.06), (\"미금역사거리에서 '대왕판교로' 방면으로 좌회전\", 135, 62.098), (\"머내공원사거리에서 '정자일로' 방면으로 우회전\", 236, 37.202), ('비보호 좌회전', 146, 57.383), ('좌회전', 58, 41.759), ('목적지', 11, 6.599)]\n"
     ]
    }
   ],
   "source": [
    "# *-- 목적지까지의 종합 정보 추출(총 거리, 총 소요시간, 요금 등) --*\n",
    "message = {\n",
    "    'message' : results['message'], # traoptimal은 option 에 따라 다르게 줄 것\n",
    "    'option' : list(results['route'].keys())[0],\n",
    "    'total_distance' : results['route']['traoptimal'][0]['summary']['distance'],\n",
    "    'total_duration' : results['route']['traoptimal'][0]['summary']['duration'],\n",
    "    'fares' : {'toll' : results['route']['traoptimal'][0]['summary']['tollFare'],\n",
    "              'taxi' : results['route']['traoptimal'][0]['summary']['taxiFare'],\n",
    "              'fuel' : results['route']['traoptimal'][0]['summary']['fuelPrice']}\n",
    "}\n",
    "print(message)\n",
    "\n",
    "# *-- 목적지까지의 guidence와 각각의 거리, 소요시간 정보 추출 --*\n",
    "temp = [ (guide['instructions'], guide['distance'] , guide['duration'] / 1000 ) \\\n",
    "for guide in results['route']['traoptimal'][0]['guide'] ]\n",
    "\n",
    "print(temp)"
   ]
  },
  {
   "cell_type": "code",
   "execution_count": null,
   "metadata": {},
   "outputs": [],
   "source": []
  },
  {
   "cell_type": "code",
   "execution_count": null,
   "metadata": {},
   "outputs": [],
   "source": [
    "# https://api.ncloud-docs.com/docs/ai-naver-mapsdirections-driving\n",
    "# driving만됨"
   ]
  },
  {
   "cell_type": "code",
   "execution_count": null,
   "metadata": {},
   "outputs": [],
   "source": [
    "# https://lpla.tistory.com/131\n",
    "# 앱은 된다"
   ]
  },
  {
   "cell_type": "code",
   "execution_count": 2,
   "metadata": {},
   "outputs": [
    {
     "ename": "WebDriverException",
     "evalue": "Message: 'chromedriver' executable needs to be in PATH. Please see https://sites.google.com/a/chromium.org/chromedriver/home\n",
     "output_type": "error",
     "traceback": [
      "\u001b[0;31m---------------------------------------------------------------------------\u001b[0m",
      "\u001b[0;31mFileNotFoundError\u001b[0m                         Traceback (most recent call last)",
      "\u001b[0;32m~/opt/anaconda3/envs/ds_study/lib/python3.8/site-packages/selenium/webdriver/common/service.py\u001b[0m in \u001b[0;36mstart\u001b[0;34m(self)\u001b[0m\n\u001b[1;32m     71\u001b[0m             \u001b[0mcmd\u001b[0m\u001b[0;34m.\u001b[0m\u001b[0mextend\u001b[0m\u001b[0;34m(\u001b[0m\u001b[0mself\u001b[0m\u001b[0;34m.\u001b[0m\u001b[0mcommand_line_args\u001b[0m\u001b[0;34m(\u001b[0m\u001b[0;34m)\u001b[0m\u001b[0;34m)\u001b[0m\u001b[0;34m\u001b[0m\u001b[0;34m\u001b[0m\u001b[0m\n\u001b[0;32m---> 72\u001b[0;31m             self.process = subprocess.Popen(cmd, env=self.env,\n\u001b[0m\u001b[1;32m     73\u001b[0m                                             \u001b[0mclose_fds\u001b[0m\u001b[0;34m=\u001b[0m\u001b[0mplatform\u001b[0m\u001b[0;34m.\u001b[0m\u001b[0msystem\u001b[0m\u001b[0;34m(\u001b[0m\u001b[0;34m)\u001b[0m \u001b[0;34m!=\u001b[0m \u001b[0;34m'Windows'\u001b[0m\u001b[0;34m,\u001b[0m\u001b[0;34m\u001b[0m\u001b[0;34m\u001b[0m\u001b[0m\n",
      "\u001b[0;32m~/opt/anaconda3/envs/ds_study/lib/python3.8/subprocess.py\u001b[0m in \u001b[0;36m__init__\u001b[0;34m(self, args, bufsize, executable, stdin, stdout, stderr, preexec_fn, close_fds, shell, cwd, env, universal_newlines, startupinfo, creationflags, restore_signals, start_new_session, pass_fds, encoding, errors, text)\u001b[0m\n\u001b[1;32m    857\u001b[0m \u001b[0;34m\u001b[0m\u001b[0m\n\u001b[0;32m--> 858\u001b[0;31m             self._execute_child(args, executable, preexec_fn, close_fds,\n\u001b[0m\u001b[1;32m    859\u001b[0m                                 \u001b[0mpass_fds\u001b[0m\u001b[0;34m,\u001b[0m \u001b[0mcwd\u001b[0m\u001b[0;34m,\u001b[0m \u001b[0menv\u001b[0m\u001b[0;34m,\u001b[0m\u001b[0;34m\u001b[0m\u001b[0;34m\u001b[0m\u001b[0m\n",
      "\u001b[0;32m~/opt/anaconda3/envs/ds_study/lib/python3.8/subprocess.py\u001b[0m in \u001b[0;36m_execute_child\u001b[0;34m(self, args, executable, preexec_fn, close_fds, pass_fds, cwd, env, startupinfo, creationflags, shell, p2cread, p2cwrite, c2pread, c2pwrite, errread, errwrite, restore_signals, start_new_session)\u001b[0m\n\u001b[1;32m   1703\u001b[0m                         \u001b[0merr_msg\u001b[0m \u001b[0;34m=\u001b[0m \u001b[0mos\u001b[0m\u001b[0;34m.\u001b[0m\u001b[0mstrerror\u001b[0m\u001b[0;34m(\u001b[0m\u001b[0merrno_num\u001b[0m\u001b[0;34m)\u001b[0m\u001b[0;34m\u001b[0m\u001b[0;34m\u001b[0m\u001b[0m\n\u001b[0;32m-> 1704\u001b[0;31m                     \u001b[0;32mraise\u001b[0m \u001b[0mchild_exception_type\u001b[0m\u001b[0;34m(\u001b[0m\u001b[0merrno_num\u001b[0m\u001b[0;34m,\u001b[0m \u001b[0merr_msg\u001b[0m\u001b[0;34m,\u001b[0m \u001b[0merr_filename\u001b[0m\u001b[0;34m)\u001b[0m\u001b[0;34m\u001b[0m\u001b[0;34m\u001b[0m\u001b[0m\n\u001b[0m\u001b[1;32m   1705\u001b[0m                 \u001b[0;32mraise\u001b[0m \u001b[0mchild_exception_type\u001b[0m\u001b[0;34m(\u001b[0m\u001b[0merr_msg\u001b[0m\u001b[0;34m)\u001b[0m\u001b[0;34m\u001b[0m\u001b[0;34m\u001b[0m\u001b[0m\n",
      "\u001b[0;31mFileNotFoundError\u001b[0m: [Errno 2] No such file or directory: './driver/chromedriver'",
      "\nDuring handling of the above exception, another exception occurred:\n",
      "\u001b[0;31mWebDriverException\u001b[0m                        Traceback (most recent call last)",
      "\u001b[0;32m/var/folders/39/19s9x2053p9bhn6svbpwcm_h0000gn/T/ipykernel_66026/159189217.py\u001b[0m in \u001b[0;36m<module>\u001b[0;34m\u001b[0m\n\u001b[1;32m      1\u001b[0m \u001b[0;32mfrom\u001b[0m \u001b[0mselenium\u001b[0m \u001b[0;32mimport\u001b[0m \u001b[0mwebdriver\u001b[0m\u001b[0;34m\u001b[0m\u001b[0;34m\u001b[0m\u001b[0m\n\u001b[1;32m      2\u001b[0m \u001b[0murl\u001b[0m \u001b[0;34m=\u001b[0m \u001b[0;34m'https://map.naver.com/v5/directions/-/-/-/car?c=14149550.9368499,4487916.2877992,15,0,0,0,dh'\u001b[0m\u001b[0;34m\u001b[0m\u001b[0;34m\u001b[0m\u001b[0m\n\u001b[0;32m----> 3\u001b[0;31m \u001b[0mdriver\u001b[0m \u001b[0;34m=\u001b[0m \u001b[0mwebdriver\u001b[0m\u001b[0;34m.\u001b[0m\u001b[0mChrome\u001b[0m\u001b[0;34m(\u001b[0m\u001b[0;34m'./driver/chromedriver'\u001b[0m\u001b[0;34m)\u001b[0m\u001b[0;34m\u001b[0m\u001b[0;34m\u001b[0m\u001b[0m\n\u001b[0m\u001b[1;32m      4\u001b[0m \u001b[0mdriver\u001b[0m\u001b[0;34m.\u001b[0m\u001b[0mget\u001b[0m\u001b[0;34m(\u001b[0m\u001b[0murl\u001b[0m\u001b[0;34m)\u001b[0m\u001b[0;34m\u001b[0m\u001b[0;34m\u001b[0m\u001b[0m\n\u001b[1;32m      5\u001b[0m \u001b[0;34m\u001b[0m\u001b[0m\n",
      "\u001b[0;32m~/opt/anaconda3/envs/ds_study/lib/python3.8/site-packages/selenium/webdriver/chrome/webdriver.py\u001b[0m in \u001b[0;36m__init__\u001b[0;34m(self, executable_path, port, options, service_args, desired_capabilities, service_log_path, chrome_options, keep_alive)\u001b[0m\n\u001b[1;32m     71\u001b[0m             \u001b[0mservice_args\u001b[0m\u001b[0;34m=\u001b[0m\u001b[0mservice_args\u001b[0m\u001b[0;34m,\u001b[0m\u001b[0;34m\u001b[0m\u001b[0;34m\u001b[0m\u001b[0m\n\u001b[1;32m     72\u001b[0m             log_path=service_log_path)\n\u001b[0;32m---> 73\u001b[0;31m         \u001b[0mself\u001b[0m\u001b[0;34m.\u001b[0m\u001b[0mservice\u001b[0m\u001b[0;34m.\u001b[0m\u001b[0mstart\u001b[0m\u001b[0;34m(\u001b[0m\u001b[0;34m)\u001b[0m\u001b[0;34m\u001b[0m\u001b[0;34m\u001b[0m\u001b[0m\n\u001b[0m\u001b[1;32m     74\u001b[0m \u001b[0;34m\u001b[0m\u001b[0m\n\u001b[1;32m     75\u001b[0m         \u001b[0;32mtry\u001b[0m\u001b[0;34m:\u001b[0m\u001b[0;34m\u001b[0m\u001b[0;34m\u001b[0m\u001b[0m\n",
      "\u001b[0;32m~/opt/anaconda3/envs/ds_study/lib/python3.8/site-packages/selenium/webdriver/common/service.py\u001b[0m in \u001b[0;36mstart\u001b[0;34m(self)\u001b[0m\n\u001b[1;32m     79\u001b[0m         \u001b[0;32mexcept\u001b[0m \u001b[0mOSError\u001b[0m \u001b[0;32mas\u001b[0m \u001b[0merr\u001b[0m\u001b[0;34m:\u001b[0m\u001b[0;34m\u001b[0m\u001b[0;34m\u001b[0m\u001b[0m\n\u001b[1;32m     80\u001b[0m             \u001b[0;32mif\u001b[0m \u001b[0merr\u001b[0m\u001b[0;34m.\u001b[0m\u001b[0merrno\u001b[0m \u001b[0;34m==\u001b[0m \u001b[0merrno\u001b[0m\u001b[0;34m.\u001b[0m\u001b[0mENOENT\u001b[0m\u001b[0;34m:\u001b[0m\u001b[0;34m\u001b[0m\u001b[0;34m\u001b[0m\u001b[0m\n\u001b[0;32m---> 81\u001b[0;31m                 raise WebDriverException(\n\u001b[0m\u001b[1;32m     82\u001b[0m                     \"'%s' executable needs to be in PATH. %s\" % (\n\u001b[1;32m     83\u001b[0m                         os.path.basename(self.path), self.start_error_message)\n",
      "\u001b[0;31mWebDriverException\u001b[0m: Message: 'chromedriver' executable needs to be in PATH. Please see https://sites.google.com/a/chromium.org/chromedriver/home\n"
     ]
    }
   ],
   "source": [
    "from selenium import webdriver\n",
    "url = 'https://map.naver.com/v5/directions/-/-/-/car?c=14149550.9368499,4487916.2877992,15,0,0,0,dh'\n",
    "driver = webdriver.Chrome('./driver/chromedriver')\n",
    "driver.get(url)\n",
    "\n"
   ]
  },
  {
   "cell_type": "code",
   "execution_count": 75,
   "metadata": {},
   "outputs": [],
   "source": [
    "driver.find_element_by_css_selector('#container > shrinkable-layout > div > directions-layout > directions-result > div.main > div.search_area > directions-search > div.btn_box > button.btn.btn_route.ng-star-inserted').click()"
   ]
  },
  {
   "cell_type": "code",
   "execution_count": 76,
   "metadata": {},
   "outputs": [],
   "source": [
    "start =driver.find_element_by_css_selector('#directionStart0')\n",
    "start.send_keys('서울특별시 종로구 청와대로 1')\n",
    "from selenium.webdriver.common.keys import Keys\n",
    "start.send_keys(Keys.ENTER)\n"
   ]
  },
  {
   "cell_type": "code",
   "execution_count": 78,
   "metadata": {},
   "outputs": [],
   "source": [
    "via = driver.find_element_by_css_selector('#directionVia1')\n",
    "via.send_keys('부산광역시 금정구 부산대학로63번길 2')\n",
    "via.send_keys(Keys.ENTER)"
   ]
  },
  {
   "cell_type": "code",
   "execution_count": 82,
   "metadata": {},
   "outputs": [],
   "source": [
    "end = driver.find_element_by_css_selector('#directionGoal2')\n",
    "end.send_keys('경기도 수원시 장안구 서부로 2149')\n",
    "end.send_keys(Keys.ENTER)\n",
    "\n"
   ]
  },
  {
   "cell_type": "code",
   "execution_count": 83,
   "metadata": {},
   "outputs": [],
   "source": [
    "find = driver.find_element_by_css_selector('#container > shrinkable-layout > div > directions-layout > directions-result > div.main > div.search_area > directions-search > div.btn_box > button.btn.btn_direction').click()\n",
    "#container > shrinkable-layout > div > directions-layout > directions-result > div.main > div.search_area > directions-search > div.btn_box > button.btn.btn_direction"
   ]
  }
 ],
 "metadata": {
  "kernelspec": {
   "display_name": "Python 3.8.12 ('ds_study')",
   "language": "python",
   "name": "python3"
  },
  "language_info": {
   "codemirror_mode": {
    "name": "ipython",
    "version": 3
   },
   "file_extension": ".py",
   "mimetype": "text/x-python",
   "name": "python",
   "nbconvert_exporter": "python",
   "pygments_lexer": "ipython3",
   "version": "3.8.12"
  },
  "orig_nbformat": 4,
  "vscode": {
   "interpreter": {
    "hash": "ee17d55dc0ca9bce57a88b37df1d91484e5972bfb6f99f6b64b7675185bf3789"
   }
  }
 },
 "nbformat": 4,
 "nbformat_minor": 2
}
