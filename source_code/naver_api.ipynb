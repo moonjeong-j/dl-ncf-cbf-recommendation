{
 "cells": [
  {
   "cell_type": "code",
   "execution_count": null,
   "metadata": {},
   "outputs": [],
   "source": [
    "# directions 5는 출발지(start), 도착지(goal), 경유지(waypoint)를 지정하여 경로를 탐색할 수 있기 때문에, 세 가지 주소를 입력하여 geocode를 적용해보았다."
   ]
  },
  {
   "cell_type": "code",
   "execution_count": 6,
   "metadata": {},
   "outputs": [
    {
     "name": "stdout",
     "output_type": "stream",
     "text": [
      "{'status': 'OK', 'meta': {'totalCount': 1, 'page': 1, 'count': 1}, 'addresses': [{'roadAddress': '경기도 성남시 분당구 미금일로74번길 5-1', 'jibunAddress': '경기도 성남시 분당구 구미동 60-3', 'englishAddress': '5-1, Migeumil-ro 74beon-gil, Bundang-gu, Seongnam-si, Gyeonggi-do, Republic of Korea', 'addressElements': [{'types': ['SIDO'], 'longName': '경기도', 'shortName': '경기도', 'code': ''}, {'types': ['SIGUGUN'], 'longName': '성남시 분당구', 'shortName': '성남시 분당구', 'code': ''}, {'types': ['DONGMYUN'], 'longName': '구미동', 'shortName': '구미동', 'code': ''}, {'types': ['RI'], 'longName': '', 'shortName': '', 'code': ''}, {'types': ['ROAD_NAME'], 'longName': '미금일로74번길', 'shortName': '미금일로74번길', 'code': ''}, {'types': ['BUILDING_NUMBER'], 'longName': '5-1', 'shortName': '5-1', 'code': ''}, {'types': ['BUILDING_NAME'], 'longName': '', 'shortName': '', 'code': ''}, {'types': ['LAND_NUMBER'], 'longName': '60-3', 'shortName': '60-3', 'code': ''}, {'types': ['POSTAL_CODE'], 'longName': '13627', 'shortName': '13627', 'code': ''}], 'x': '127.1113710', 'y': '37.3461413', 'distance': 0.0}], 'errorMessage': ''}\n",
      "{'status': 'OK', 'meta': {'totalCount': 1, 'page': 1, 'count': 1}, 'addresses': [{'roadAddress': '경기도 성남시 분당구 정자일로 1 코오롱트리폴리스1', 'jibunAddress': '경기도 성남시 분당구 금곡동 210 코오롱트리폴리스1', 'englishAddress': '1, Jeongjail-ro, Bundang-gu, Seongnam-si, Gyeonggi-do, Republic of Korea', 'addressElements': [{'types': ['SIDO'], 'longName': '경기도', 'shortName': '경기도', 'code': ''}, {'types': ['SIGUGUN'], 'longName': '성남시 분당구', 'shortName': '성남시 분당구', 'code': ''}, {'types': ['DONGMYUN'], 'longName': '금곡동', 'shortName': '금곡동', 'code': ''}, {'types': ['RI'], 'longName': '', 'shortName': '', 'code': ''}, {'types': ['ROAD_NAME'], 'longName': '정자일로', 'shortName': '정자일로', 'code': ''}, {'types': ['BUILDING_NUMBER'], 'longName': '1', 'shortName': '1', 'code': ''}, {'types': ['BUILDING_NAME'], 'longName': '코오롱트리폴리스1', 'shortName': '코오롱트리폴리스1', 'code': ''}, {'types': ['LAND_NUMBER'], 'longName': '210', 'shortName': '210', 'code': ''}, {'types': ['POSTAL_CODE'], 'longName': '13616', 'shortName': '13616', 'code': ''}], 'x': '127.1054067', 'y': '37.3508024', 'distance': 0.0}], 'errorMessage': ''}\n",
      "{'status': 'OK', 'meta': {'totalCount': 1, 'page': 1, 'count': 1}, 'addresses': [{'roadAddress': '', 'jibunAddress': '경기도 성남시 분당구 구미동 96-3', 'englishAddress': '96-3, Gumi-dong, Bundang-gu, Seongnam-si, Gyeonggi-do, Republic of Korea', 'addressElements': [{'types': ['SIDO'], 'longName': '경기도', 'shortName': '경기도', 'code': ''}, {'types': ['SIGUGUN'], 'longName': '성남시 분당구', 'shortName': '성남시 분당구', 'code': ''}, {'types': ['DONGMYUN'], 'longName': '구미동', 'shortName': '구미동', 'code': ''}, {'types': ['RI'], 'longName': '', 'shortName': '', 'code': ''}, {'types': ['ROAD_NAME'], 'longName': '', 'shortName': '', 'code': ''}, {'types': ['BUILDING_NUMBER'], 'longName': '', 'shortName': '', 'code': ''}, {'types': ['BUILDING_NAME'], 'longName': '', 'shortName': '', 'code': ''}, {'types': ['LAND_NUMBER'], 'longName': '96-3', 'shortName': '96-3', 'code': ''}, {'types': ['POSTAL_CODE'], 'longName': '', 'shortName': '', 'code': ''}], 'x': '127.1103342', 'y': '37.3472702', 'distance': 0.0}], 'errorMessage': ''}\n"
     ]
    }
   ],
   "source": [
    "\n",
    "\n",
    "\n",
    "# *-- Geocoding 활용 코드 --*\n",
    "import json\n",
    "import urllib\n",
    "from urllib.request import Request, urlopen\n",
    "# *-- 3개의 주소 geocoding으로 변환한다.(출발지, 도착지, 경유지) --*\n",
    "start = '경기도 성남시 분당구 구미동 60-3'\n",
    "waypoint = '경기도 성남시 분당구 구미동 96-3'\n",
    "goal = '경기도 성남시 분당구 금곡동 210'\n",
    "\n",
    "\n",
    "# 주소에 geocoding 적용하는 함수를 작성.\n",
    "def get_location(loc) :\n",
    "    client_id = ''\n",
    "    client_secret = ''\n",
    "    url = f\"https://naveropenapi.apigw.ntruss.com/map-geocode/v2/geocode?query=\" \\\n",
    "    \t\t\t+ urllib.parse.quote(loc)\n",
    "    \n",
    "    # 주소 변환\n",
    "    request = urllib.request.Request(url)\n",
    "    request.add_header('X-NCP-APIGW-API-KEY-ID', client_id)\n",
    "    request.add_header('X-NCP-APIGW-API-KEY', client_secret)\n",
    "    \n",
    "    response = urlopen(request)\n",
    "    res = response.getcode()\n",
    "    \n",
    "    if (res == 200) : # 응답이 정상적으로 완료되면 200을 return한다\n",
    "        response_body = response.read().decode('utf-8')\n",
    "        response_body = json.loads(response_body)\n",
    "        print(response_body)\n",
    "        # 주소가 존재할 경우 total count == 1이 반환됨.\n",
    "        if response_body['meta']['totalCount'] == 1 : \n",
    "        \t# 위도, 경도 좌표를 받아와서 return해 줌.\n",
    "            lat = response_body['addresses'][0]['y']\n",
    "            lon = response_body['addresses'][0]['x']\n",
    "            return (lon, lat)\n",
    "        else :\n",
    "            print('location not exist')\n",
    "        \n",
    "    else :\n",
    "        print('ERROR')\n",
    "        \n",
    "#  함수 적용\n",
    "start = get_location(start)\n",
    "goal = get_location(goal)\n",
    "waypoint = get_location(waypoint)"
   ]
  },
  {
   "cell_type": "code",
   "execution_count": 7,
   "metadata": {},
   "outputs": [
    {
     "name": "stdout",
     "output_type": "stream",
     "text": [
      "('127.1113710', '37.3461413')\n",
      "('127.1054067', '37.3508024')\n",
      "('127.1103342', '37.3472702')\n"
     ]
    }
   ],
   "source": [
    "print(start)\n",
    "print(goal)\n",
    "print(waypoint)"
   ]
  },
  {
   "cell_type": "code",
   "execution_count": 8,
   "metadata": {},
   "outputs": [
    {
     "data": {
      "text/plain": [
       "{'code': 0,\n",
       " 'message': '길찾기를 성공하였습니다.',\n",
       " 'currentDateTime': '2022-06-21T01:25:00',\n",
       " 'route': {'traoptimal': [{'summary': {'start': {'location': [127.1113707,\n",
       "       37.3461407]},\n",
       "     'goal': {'location': [127.1054065, 37.3508018], 'dir': 1},\n",
       "     'distance': 1251,\n",
       "     'duration': 286098,\n",
       "     'etaServiceType': 0,\n",
       "     'departureTime': '2022-06-21T01:25:00',\n",
       "     'bbox': [[127.1054065, 37.3458242], [127.1113707, 37.3513708]],\n",
       "     'tollFare': 0,\n",
       "     'taxiFare': 4550,\n",
       "     'fuelPrice': 188},\n",
       "    'path': [[127.111368, 37.3462299],\n",
       "     [127.111, 37.3462251],\n",
       "     [127.1109616, 37.3462249],\n",
       "     [127.1109311, 37.3462239],\n",
       "     [127.1104615, 37.3462161],\n",
       "     [127.1103744, 37.346241],\n",
       "     [127.1103493, 37.3462914],\n",
       "     [127.1103364, 37.3465997],\n",
       "     [127.1103368, 37.3469701],\n",
       "     [127.1099223, 37.3469814],\n",
       "     [127.109923, 37.346848],\n",
       "     [127.1099239, 37.3464577],\n",
       "     [127.1099173, 37.345988],\n",
       "     [127.1099147, 37.3458411],\n",
       "     [127.1092452, 37.3458326],\n",
       "     [127.108937, 37.3458244],\n",
       "     [127.108657, 37.3458243],\n",
       "     [127.1086548, 37.3458243],\n",
       "     [127.1081185, 37.3458244],\n",
       "     [127.1080587, 37.3458242],\n",
       "     [127.1078791, 37.3458245],\n",
       "     [127.1078746, 37.3458245],\n",
       "     [127.1076747, 37.3458409],\n",
       "     [127.1075118, 37.3458999],\n",
       "     [127.1074258, 37.3459456],\n",
       "     [127.1073873, 37.3459662],\n",
       "     [127.1072861, 37.3460938],\n",
       "     [127.1072804, 37.346119],\n",
       "     [127.1072619, 37.3462001],\n",
       "     [127.1072282, 37.3468084],\n",
       "     [127.1072257, 37.3468652],\n",
       "     [127.107218, 37.3470446],\n",
       "     [127.1072158, 37.3472501],\n",
       "     [127.1072122, 37.347506],\n",
       "     [127.1072124, 37.3476746],\n",
       "     [127.1071995, 37.3477746],\n",
       "     [127.107174, 37.3478998],\n",
       "     [127.1071556, 37.3479538],\n",
       "     [127.1071373, 37.3480079],\n",
       "     [127.1070835, 37.3481375],\n",
       "     [127.1070539, 37.3481915],\n",
       "     [127.1069674, 37.3483264],\n",
       "     [127.1068787, 37.3484442],\n",
       "     [127.1067002, 37.3486825],\n",
       "     [127.1066171, 37.3488093],\n",
       "     [127.1065226, 37.3489559],\n",
       "     [127.1064246, 37.3491412],\n",
       "     [127.1063993, 37.349225],\n",
       "     [127.1063618, 37.3494827],\n",
       "     [127.1063609, 37.3498721],\n",
       "     [127.1063609, 37.3498766],\n",
       "     [127.1063611, 37.3500613],\n",
       "     [127.1063612, 37.350247],\n",
       "     [127.1063612, 37.3502506],\n",
       "     [127.1063615, 37.3506247],\n",
       "     [127.1063456, 37.3508653],\n",
       "     [127.1063199, 37.351251],\n",
       "     [127.1062966, 37.3513708],\n",
       "     [127.106151, 37.3513704],\n",
       "     [127.1056373, 37.3513659],\n",
       "     [127.1056388, 37.3512839],\n",
       "     [127.1056389, 37.351265]],\n",
       "    'section': [{'pointIndex': 2,\n",
       "      'pointCount': 7,\n",
       "      'distance': 134,\n",
       "      'name': '미금일로86번길',\n",
       "      'congestion': 0,\n",
       "      'speed': 10},\n",
       "     {'pointIndex': 13,\n",
       "      'pointCount': 39,\n",
       "      'distance': 702,\n",
       "      'name': '미금일로',\n",
       "      'congestion': 2,\n",
       "      'speed': 21},\n",
       "     {'pointIndex': 51,\n",
       "      'pointCount': 7,\n",
       "      'distance': 146,\n",
       "      'name': '정자일로',\n",
       "      'congestion': 0,\n",
       "      'speed': 15}],\n",
       "    'guide': [{'pointIndex': 8,\n",
       "      'type': 2,\n",
       "      'instructions': '좌회전',\n",
       "      'distance': 170,\n",
       "      'duration': 67377},\n",
       "     {'pointIndex': 9,\n",
       "      'type': 2,\n",
       "      'instructions': \"'미금일로90번길' 방면으로 좌회전\",\n",
       "      'distance': 37,\n",
       "      'duration': 10246},\n",
       "     {'pointIndex': 13,\n",
       "      'type': 3,\n",
       "      'instructions': \"'미금일로' 방면으로 우회전\",\n",
       "      'distance': 127,\n",
       "      'duration': 30479},\n",
       "     {'pointIndex': 57,\n",
       "      'type': 8,\n",
       "      'instructions': '비보호 좌회전',\n",
       "      'distance': 848,\n",
       "      'duration': 153998},\n",
       "     {'pointIndex': 59,\n",
       "      'type': 2,\n",
       "      'instructions': '좌회전',\n",
       "      'distance': 58,\n",
       "      'duration': 17399},\n",
       "     {'pointIndex': 61,\n",
       "      'type': 88,\n",
       "      'instructions': '목적지',\n",
       "      'distance': 11,\n",
       "      'duration': 6599}]}]}}"
      ]
     },
     "execution_count": 8,
     "metadata": {},
     "output_type": "execute_result"
    }
   ],
   "source": [
    "\n",
    "\n",
    "# *-- Directions 5 활용 코드 --*\n",
    "option = 'traoptimal'\n",
    "# option : 탐색옵션 [최대 3개, traoptimal(기본 옵션) \n",
    "# / trafast, tracomfort, traavoidtoll, traavoidcaronly]\n",
    "\n",
    "\n",
    "def get_optimal_route(start, goal, waypoints=['',''], option=option) :\n",
    "    global url\n",
    "    global request\n",
    "    \n",
    "    client_id = '0w5w7w7xxi'\n",
    "    client_secret = '361DM28Tr2Pk66ud0ekGuA6pGYK3OqfZkfN1Kp7v' \n",
    "    # start=/goal=/(waypoint=)/(option=) 순으로 request parameter 지정\n",
    "    url = f\"https://naveropenapi.apigw.ntruss.com/map-direction-15/v1/driving?\\\n",
    "    start={start[0]},{start[1]}&goal={goal[0]},{goal[1]}\\\n",
    "    &waypoint={waypoint[0]},{waypoint[1]}&option={option}\"\n",
    "    url = url.replace(\" \", \"\")\n",
    "    request = urllib.request.Request(url)\n",
    "    request.add_header('X-NCP-APIGW-API-KEY-ID', client_id)\n",
    "    request.add_header('X-NCP-APIGW-API-KEY', client_secret)\n",
    "    \n",
    "    response = urllib.request.urlopen(request)\n",
    "    res = response.getcode()\n",
    "    \n",
    "    if (res == 200) :\n",
    "        response_body = response.read().decode('utf-8')\n",
    "        return json.loads(response_body)\n",
    "            \n",
    "    else :\n",
    "        print('ERROR')\n",
    "\n",
    "    \n",
    "        \n",
    "get_optimal_route(start, goal, option=option)\n"
   ]
  },
  {
   "cell_type": "code",
   "execution_count": 9,
   "metadata": {},
   "outputs": [
    {
     "data": {
      "text/plain": [
       "'https://naveropenapi.apigw.ntruss.com/map-direction-15/v1/driving?start=127.1113710,37.3461413&goal=127.1054067,37.3508024&waypoint=127.1103342,37.3472702&option=traoptimal'"
      ]
     },
     "execution_count": 9,
     "metadata": {},
     "output_type": "execute_result"
    }
   ],
   "source": [
    "url"
   ]
  },
  {
   "cell_type": "code",
   "execution_count": 10,
   "metadata": {},
   "outputs": [
    {
     "data": {
      "text/plain": [
       "<urllib.request.Request at 0x7fe630d8a820>"
      ]
     },
     "execution_count": 10,
     "metadata": {},
     "output_type": "execute_result"
    }
   ],
   "source": [
    "request"
   ]
  },
  {
   "cell_type": "code",
   "execution_count": 11,
   "metadata": {},
   "outputs": [],
   "source": [
    "results=get_optimal_route(start, goal, option=option)\n"
   ]
  },
  {
   "cell_type": "code",
   "execution_count": 12,
   "metadata": {},
   "outputs": [
    {
     "name": "stdout",
     "output_type": "stream",
     "text": [
      "{'message': '길찾기를 성공하였습니다.', 'option': 'traoptimal', 'total_distance': 1251, 'total_duration': 286098, 'fares': {'toll': 0, 'taxi': 4550, 'fuel': 188}}\n",
      "[('좌회전', 170, 67.377), (\"'미금일로90번길' 방면으로 좌회전\", 37, 10.246), (\"'미금일로' 방면으로 우회전\", 127, 30.479), ('비보호 좌회전', 848, 153.998), ('좌회전', 58, 17.399), ('목적지', 11, 6.599)]\n"
     ]
    }
   ],
   "source": [
    "# *-- 목적지까지의 종합 정보 추출(총 거리, 총 소요시간, 요금 등) --*\n",
    "message = {\n",
    "    'message' : results['message'], # traoptimal은 option 에 따라 다르게 줄 것\n",
    "    'option' : list(results['route'].keys())[0],\n",
    "    'total_distance' : results['route']['traoptimal'][0]['summary']['distance'],\n",
    "    'total_duration' : results['route']['traoptimal'][0]['summary']['duration'],\n",
    "    'fares' : {'toll' : results['route']['traoptimal'][0]['summary']['tollFare'],\n",
    "              'taxi' : results['route']['traoptimal'][0]['summary']['taxiFare'],\n",
    "              'fuel' : results['route']['traoptimal'][0]['summary']['fuelPrice']}\n",
    "}\n",
    "print(message)\n",
    "\n",
    "# *-- 목적지까지의 guidence와 각각의 거리, 소요시간 정보 추출 --*\n",
    "temp = [ (guide['instructions'], guide['distance'] , guide['duration'] / 1000 ) \\\n",
    "for guide in results['route']['traoptimal'][0]['guide'] ]\n",
    "\n",
    "print(temp)"
   ]
  },
  {
   "cell_type": "code",
   "execution_count": 14,
   "metadata": {},
   "outputs": [
    {
     "data": {
      "text/plain": [
       "{'message': '길찾기를 성공하였습니다.',\n",
       " 'option': 'traoptimal',\n",
       " 'total_distance': 1251,\n",
       " 'total_duration': 286098,\n",
       " 'fares': {'toll': 0, 'taxi': 4550, 'fuel': 188}}"
      ]
     },
     "execution_count": 14,
     "metadata": {},
     "output_type": "execute_result"
    }
   ],
   "source": [
    "message"
   ]
  },
  {
   "cell_type": "code",
   "execution_count": 15,
   "metadata": {},
   "outputs": [
    {
     "data": {
      "text/plain": [
       "1251"
      ]
     },
     "execution_count": 15,
     "metadata": {},
     "output_type": "execute_result"
    }
   ],
   "source": [
    "message['total_distance']"
   ]
  },
  {
   "cell_type": "code",
   "execution_count": 16,
   "metadata": {},
   "outputs": [
    {
     "data": {
      "text/plain": [
       "286098"
      ]
     },
     "execution_count": 16,
     "metadata": {},
     "output_type": "execute_result"
    }
   ],
   "source": [
    "message['total_duration']"
   ]
  },
  {
   "cell_type": "code",
   "execution_count": 18,
   "metadata": {},
   "outputs": [
    {
     "data": {
      "text/plain": [
       "4550"
      ]
     },
     "execution_count": 18,
     "metadata": {},
     "output_type": "execute_result"
    }
   ],
   "source": [
    "message['fares']['taxi']"
   ]
  },
  {
   "cell_type": "code",
   "execution_count": null,
   "metadata": {},
   "outputs": [],
   "source": [
    "# https://api.ncloud-docs.com/docs/ai-naver-mapsdirections-driving\n",
    "# driving만됨"
   ]
  },
  {
   "cell_type": "code",
   "execution_count": null,
   "metadata": {},
   "outputs": [],
   "source": [
    "# https://lpla.tistory.com/131\n",
    "# 앱은 된다"
   ]
  },
  {
   "cell_type": "code",
   "execution_count": null,
   "metadata": {},
   "outputs": [],
   "source": []
  }
 ],
 "metadata": {
  "kernelspec": {
   "display_name": "Python 3.8.12 ('ds_study')",
   "language": "python",
   "name": "python3"
  },
  "language_info": {
   "codemirror_mode": {
    "name": "ipython",
    "version": 3
   },
   "file_extension": ".py",
   "mimetype": "text/x-python",
   "name": "python",
   "nbconvert_exporter": "python",
   "pygments_lexer": "ipython3",
   "version": "3.8.12"
  },
  "orig_nbformat": 4,
  "vscode": {
   "interpreter": {
    "hash": "ee17d55dc0ca9bce57a88b37df1d91484e5972bfb6f99f6b64b7675185bf3789"
   }
  }
 },
 "nbformat": 4,
 "nbformat_minor": 2
}
